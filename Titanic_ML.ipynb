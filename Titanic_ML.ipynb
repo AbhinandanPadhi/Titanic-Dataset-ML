{
  "nbformat": 4,
  "nbformat_minor": 0,
  "metadata": {
    "colab": {
      "name": "Titanic_ML.ipynb",
      "provenance": [],
      "collapsed_sections": []
    },
    "kernelspec": {
      "name": "python3",
      "display_name": "Python 3"
    }
  },
  "cells": [
    {
      "cell_type": "markdown",
      "metadata": {
        "id": "UxybR97gsmpI",
        "colab_type": "text"
      },
      "source": [
        "# Titanic Dataset - a Machine Learning project by Abhinandan Padhi\n",
        "## Includes Exploratory Data Analysis, Feature Engineering, and Various ML Techniques\n",
        "\n"
      ]
    },
    {
      "cell_type": "markdown",
      "metadata": {
        "id": "MgQXmT4ktJof",
        "colab_type": "text"
      },
      "source": [
        "## Exploratory Data Analysis (EDA)"
      ]
    },
    {
      "cell_type": "code",
      "metadata": {
        "id": "Qmko03Hlrztz",
        "colab_type": "code",
        "colab": {
          "base_uri": "https://localhost:8080/",
          "height": 54
        },
        "outputId": "778f1e03-5594-408c-f3dc-b769600e2024"
      },
      "source": [
        "import numpy as np\n",
        "import pandas as pd\n",
        "import matplotlib.pyplot as plt\n",
        "import seaborn as sb\n",
        "\n",
        "%matplotlib inline"
      ],
      "execution_count": 1,
      "outputs": [
        {
          "output_type": "stream",
          "text": [
            "/usr/local/lib/python3.6/dist-packages/statsmodels/tools/_testing.py:19: FutureWarning: pandas.util.testing is deprecated. Use the functions in the public API at pandas.testing instead.\n",
            "  import pandas.util.testing as tm\n"
          ],
          "name": "stderr"
        }
      ]
    },
    {
      "cell_type": "code",
      "metadata": {
        "id": "XSFXkTKhtXIE",
        "colab_type": "code",
        "colab": {}
      },
      "source": [
        "train = pd.read_csv('train.csv')\n",
        "test = pd.read_csv('test.csv')"
      ],
      "execution_count": 2,
      "outputs": []
    },
    {
      "cell_type": "code",
      "metadata": {
        "id": "RtvJLvtXtxUY",
        "colab_type": "code",
        "colab": {
          "base_uri": "https://localhost:8080/",
          "height": 198
        },
        "outputId": "a43ae04d-acf7-43e8-fb35-c28024fddb16"
      },
      "source": [
        "train.head()"
      ],
      "execution_count": 3,
      "outputs": [
        {
          "output_type": "execute_result",
          "data": {
            "text/html": [
              "<div>\n",
              "<style scoped>\n",
              "    .dataframe tbody tr th:only-of-type {\n",
              "        vertical-align: middle;\n",
              "    }\n",
              "\n",
              "    .dataframe tbody tr th {\n",
              "        vertical-align: top;\n",
              "    }\n",
              "\n",
              "    .dataframe thead th {\n",
              "        text-align: right;\n",
              "    }\n",
              "</style>\n",
              "<table border=\"1\" class=\"dataframe\">\n",
              "  <thead>\n",
              "    <tr style=\"text-align: right;\">\n",
              "      <th></th>\n",
              "      <th>PassengerId</th>\n",
              "      <th>Survived</th>\n",
              "      <th>Pclass</th>\n",
              "      <th>Name</th>\n",
              "      <th>Sex</th>\n",
              "      <th>Age</th>\n",
              "      <th>SibSp</th>\n",
              "      <th>Parch</th>\n",
              "      <th>Ticket</th>\n",
              "      <th>Fare</th>\n",
              "      <th>Cabin</th>\n",
              "      <th>Embarked</th>\n",
              "    </tr>\n",
              "  </thead>\n",
              "  <tbody>\n",
              "    <tr>\n",
              "      <th>0</th>\n",
              "      <td>1</td>\n",
              "      <td>0</td>\n",
              "      <td>3</td>\n",
              "      <td>Braund, Mr. Owen Harris</td>\n",
              "      <td>male</td>\n",
              "      <td>22.0</td>\n",
              "      <td>1</td>\n",
              "      <td>0</td>\n",
              "      <td>A/5 21171</td>\n",
              "      <td>7.2500</td>\n",
              "      <td>NaN</td>\n",
              "      <td>S</td>\n",
              "    </tr>\n",
              "    <tr>\n",
              "      <th>1</th>\n",
              "      <td>2</td>\n",
              "      <td>1</td>\n",
              "      <td>1</td>\n",
              "      <td>Cumings, Mrs. John Bradley (Florence Briggs Th...</td>\n",
              "      <td>female</td>\n",
              "      <td>38.0</td>\n",
              "      <td>1</td>\n",
              "      <td>0</td>\n",
              "      <td>PC 17599</td>\n",
              "      <td>71.2833</td>\n",
              "      <td>C85</td>\n",
              "      <td>C</td>\n",
              "    </tr>\n",
              "    <tr>\n",
              "      <th>2</th>\n",
              "      <td>3</td>\n",
              "      <td>1</td>\n",
              "      <td>3</td>\n",
              "      <td>Heikkinen, Miss. Laina</td>\n",
              "      <td>female</td>\n",
              "      <td>26.0</td>\n",
              "      <td>0</td>\n",
              "      <td>0</td>\n",
              "      <td>STON/O2. 3101282</td>\n",
              "      <td>7.9250</td>\n",
              "      <td>NaN</td>\n",
              "      <td>S</td>\n",
              "    </tr>\n",
              "    <tr>\n",
              "      <th>3</th>\n",
              "      <td>4</td>\n",
              "      <td>1</td>\n",
              "      <td>1</td>\n",
              "      <td>Futrelle, Mrs. Jacques Heath (Lily May Peel)</td>\n",
              "      <td>female</td>\n",
              "      <td>35.0</td>\n",
              "      <td>1</td>\n",
              "      <td>0</td>\n",
              "      <td>113803</td>\n",
              "      <td>53.1000</td>\n",
              "      <td>C123</td>\n",
              "      <td>S</td>\n",
              "    </tr>\n",
              "    <tr>\n",
              "      <th>4</th>\n",
              "      <td>5</td>\n",
              "      <td>0</td>\n",
              "      <td>3</td>\n",
              "      <td>Allen, Mr. William Henry</td>\n",
              "      <td>male</td>\n",
              "      <td>35.0</td>\n",
              "      <td>0</td>\n",
              "      <td>0</td>\n",
              "      <td>373450</td>\n",
              "      <td>8.0500</td>\n",
              "      <td>NaN</td>\n",
              "      <td>S</td>\n",
              "    </tr>\n",
              "  </tbody>\n",
              "</table>\n",
              "</div>"
            ],
            "text/plain": [
              "   PassengerId  Survived  Pclass  ...     Fare Cabin  Embarked\n",
              "0            1         0       3  ...   7.2500   NaN         S\n",
              "1            2         1       1  ...  71.2833   C85         C\n",
              "2            3         1       3  ...   7.9250   NaN         S\n",
              "3            4         1       1  ...  53.1000  C123         S\n",
              "4            5         0       3  ...   8.0500   NaN         S\n",
              "\n",
              "[5 rows x 12 columns]"
            ]
          },
          "metadata": {
            "tags": []
          },
          "execution_count": 3
        }
      ]
    },
    {
      "cell_type": "code",
      "metadata": {
        "id": "b-Om-E8QuGrW",
        "colab_type": "code",
        "colab": {
          "base_uri": "https://localhost:8080/",
          "height": 35
        },
        "outputId": "a0a0142f-b978-47c4-c259-ae52760164fe"
      },
      "source": [
        "count, num_features = train.shape\n",
        "print(\"Number of training examples (count) = {}, Number of features = {}\".format(count, num_features))"
      ],
      "execution_count": 4,
      "outputs": [
        {
          "output_type": "stream",
          "text": [
            "Number of training examples (count) = 891, Number of features = 12\n"
          ],
          "name": "stdout"
        }
      ]
    },
    {
      "cell_type": "code",
      "metadata": {
        "id": "_g7IYYMQuwp6",
        "colab_type": "code",
        "colab": {
          "base_uri": "https://localhost:8080/",
          "height": 254
        },
        "outputId": "70bcae04-27e8-490c-99d3-b394abf01594"
      },
      "source": [
        "# Check for missing data (NaN values) in the training set:\n",
        "train.isnull().sum()"
      ],
      "execution_count": 5,
      "outputs": [
        {
          "output_type": "execute_result",
          "data": {
            "text/plain": [
              "PassengerId      0\n",
              "Survived         0\n",
              "Pclass           0\n",
              "Name             0\n",
              "Sex              0\n",
              "Age            177\n",
              "SibSp            0\n",
              "Parch            0\n",
              "Ticket           0\n",
              "Fare             0\n",
              "Cabin          687\n",
              "Embarked         2\n",
              "dtype: int64"
            ]
          },
          "metadata": {
            "tags": []
          },
          "execution_count": 5
        }
      ]
    },
    {
      "cell_type": "markdown",
      "metadata": {
        "id": "MSz-Yq9Jiab4",
        "colab_type": "text"
      },
      "source": [
        "There are null values for the Age, Cabin, and Embarked columns. Age and Embarked columns might be useful to predict survival rate, and so, these missing values will be addressed by data imputation later on in this notebook."
      ]
    },
    {
      "cell_type": "code",
      "metadata": {
        "id": "6d6n8SCFw2rD",
        "colab_type": "code",
        "colab": {
          "base_uri": "https://localhost:8080/",
          "height": 297
        },
        "outputId": "6e63c175-0a60-468b-f14b-eaee9a850dd9"
      },
      "source": [
        "sb.countplot(x='Survived', data=train)\n",
        "print(\"Overall survival rate: {:.1f}%\".format(100*train['Survived'].sum()/count))"
      ],
      "execution_count": 6,
      "outputs": [
        {
          "output_type": "stream",
          "text": [
            "Overall survival rate: 38.4%\n"
          ],
          "name": "stdout"
        },
        {
          "output_type": "display_data",
          "data": {
            "image/png": "[encoded data removed]",
            "text/plain": [
              "<Figure size 432x288 with 1 Axes>"
            ]
          },
          "metadata": {
            "tags": [],
            "needs_background": "light"
          }
        }
      ]
    },
    {
      "cell_type": "markdown",
      "metadata": {
        "id": "fLztFn-y2CPP",
        "colab_type": "text"
      },
      "source": [
        "## Survival Analysis for each Feature (Column)"
      ]
    },
    {
      "cell_type": "code",
      "metadata": {
        "id": "1xIWMp4VzX1U",
        "colab_type": "code",
        "colab": {
          "base_uri": "https://localhost:8080/",
          "height": 334
        },
        "outputId": "c7e64c0e-50c5-426d-a7dd-87089304a75a"
      },
      "source": [
        "# Sex (Gender)\n",
        "sb.countplot(x='Sex', hue='Survived', data=train)\n",
        "print(\"Male:Female ratio = {:.0f}:{:.0f}\".format(100*(train['Sex'] == 'male').sum()/count, 100*(train['Sex'] == 'female').sum()/count))\n",
        "print(\"Male Survival Rate = {:.1f}%\\nFemale Survival Rate = {:.1f}%\".format(100*((train['Sex'] == 'male') & (train['Survived'] == 1)).sum()/(train['Sex'] == 'male').sum(),\n",
        "                                                               100*((train['Sex'] == 'female') & (train['Survived'] == 1)).sum()/(train['Sex'] == 'female').sum()))"
      ],
      "execution_count": 7,
      "outputs": [
        {
          "output_type": "stream",
          "text": [
            "Male:Female ratio = 65:35\n",
            "Male Survival Rate = 18.9%\n",
            "Female Survival Rate = 74.2%\n"
          ],
          "name": "stdout"
        },
        {
          "output_type": "display_data",
          "data": {
            "image/png": "[encoded data removed]",
            "text/plain": [
              "<Figure size 432x288 with 1 Axes>"
            ]
          },
          "metadata": {
            "tags": [],
            "needs_background": "light"
          }
        }
      ]
    },
    {
      "cell_type": "markdown",
      "metadata": {
        "id": "zLBzB5mAixYf",
        "colab_type": "text"
      },
      "source": [
        "Females clearly have a very high survival rate - this will be important for the ML models later on."
      ]
    },
    {
      "cell_type": "code",
      "metadata": {
        "id": "Th5nErpd4KrZ",
        "colab_type": "code",
        "colab": {
          "base_uri": "https://localhost:8080/",
          "height": 388
        },
        "outputId": "254e513a-87b5-4fc8-a9b1-a136d170e77a"
      },
      "source": [
        "# Pclass (Ticket Class)\n",
        "sb.countplot(x='Pclass', hue='Survived', data=train)\n",
        "\n",
        "for val in np.sort(train['Pclass'].unique()):\n",
        "  print(\"Number of people in Class {} = {}\".format(val, (train['Pclass'] == val).sum()))\n",
        "  print(\"Survival Rate for class {} = {:.1f}%\".format(val, 100*((train['Pclass'] == val) & (train['Survived'] == 1)).sum()/(train['Pclass'] == val).sum()))"
      ],
      "execution_count": 8,
      "outputs": [
        {
          "output_type": "stream",
          "text": [
            "Number of people in Class 1 = 216\n",
            "Survival Rate for class 1 = 63.0%\n",
            "Number of people in Class 2 = 184\n",
            "Survival Rate for class 2 = 47.3%\n",
            "Number of people in Class 3 = 491\n",
            "Survival Rate for class 3 = 24.2%\n"
          ],
          "name": "stdout"
        },
        {
          "output_type": "display_data",
          "data": {
            "image/png": "[encoded data removed]",
            "text/plain": [
              "<Figure size 432x288 with 1 Axes>"
            ]
          },
          "metadata": {
            "tags": [],
            "needs_background": "light"
          }
        }
      ]
    },
    {
      "cell_type": "markdown",
      "metadata": {
        "id": "lV9uYTaYjABv",
        "colab_type": "text"
      },
      "source": [
        "It appears that people in class 1 (first class?) had the highest survival rate of all classes."
      ]
    },
    {
      "cell_type": "code",
      "metadata": {
        "id": "Cc5yx6wDCy4f",
        "colab_type": "code",
        "colab": {}
      },
      "source": [
        "# Defined a function to analyse the data for a single specified feature (w.r.t. another feature)\n",
        "def feature_analysis(feature, feature_2='Survived', csv_filename='train.csv'):\n",
        "  data = pd.read_csv(csv_filename)\n",
        "  sb.countplot(x=feature, hue=feature_2, data=data)\n",
        "\n",
        "  for val in np.sort(data[feature].dropna().unique()):\n",
        "    print(\"Count for {} - {} = {}\".format(feature, val, (data[feature] == val).sum()))\n",
        "    print(\"Survival Rate for {} - {} = {:.1f}%\".format(feature, val, 100*((data[feature] == val) & (data[feature_2] == 1)).sum()/(data[feature] == val).sum()))"
      ],
      "execution_count": 9,
      "outputs": []
    },
    {
      "cell_type": "code",
      "metadata": {
        "id": "Lqh01TBFHhRn",
        "colab_type": "code",
        "colab": {
          "base_uri": "https://localhost:8080/",
          "height": 352
        },
        "outputId": "36559e01-c173-466f-d741-42d8f159bdf7"
      },
      "source": [
        "feature_analysis('Sex') # Used my custom function here. Identical to results from before."
      ],
      "execution_count": 10,
      "outputs": [
        {
          "output_type": "stream",
          "text": [
            "Count for Sex - female = 314\n",
            "Survival Rate for Sex - female = 74.2%\n",
            "Count for Sex - male = 577\n",
            "Survival Rate for Sex - male = 18.9%\n"
          ],
          "name": "stdout"
        },
        {
          "output_type": "display_data",
          "data": {
            "image/png": "[encoded data removed]",
            "text/plain": [
              "<Figure size 432x288 with 1 Axes>"
            ]
          },
          "metadata": {
            "tags": [],
            "needs_background": "light"
          }
        }
      ]
    },
    {
      "cell_type": "code",
      "metadata": {
        "id": "BAY_sjfLH0mU",
        "colab_type": "code",
        "colab": {
          "base_uri": "https://localhost:8080/",
          "height": 388
        },
        "outputId": "1e503275-bc0e-4779-ce8c-652a2b3d5ce1"
      },
      "source": [
        "feature_analysis('Pclass')"
      ],
      "execution_count": 11,
      "outputs": [
        {
          "output_type": "stream",
          "text": [
            "Count for Pclass - 1 = 216\n",
            "Survival Rate for Pclass - 1 = 63.0%\n",
            "Count for Pclass - 2 = 184\n",
            "Survival Rate for Pclass - 2 = 47.3%\n",
            "Count for Pclass - 3 = 491\n",
            "Survival Rate for Pclass - 3 = 24.2%\n"
          ],
          "name": "stdout"
        },
        {
          "output_type": "display_data",
          "data": {
            "image/png": "[encoded data removed]",
            "text/plain": [
              "<Figure size 432x288 with 1 Axes>"
            ]
          },
          "metadata": {
            "tags": [],
            "needs_background": "light"
          }
        }
      ]
    },
    {
      "cell_type": "code",
      "metadata": {
        "id": "LLJs-C8VH9Bk",
        "colab_type": "code",
        "colab": {
          "base_uri": "https://localhost:8080/",
          "height": 388
        },
        "outputId": "fa2c3cd3-2033-4812-b298-e6f7c56d6a75"
      },
      "source": [
        "feature_analysis('Embarked')"
      ],
      "execution_count": 12,
      "outputs": [
        {
          "output_type": "stream",
          "text": [
            "Count for Embarked - C = 168\n",
            "Survival Rate for Embarked - C = 55.4%\n",
            "Count for Embarked - Q = 77\n",
            "Survival Rate for Embarked - Q = 39.0%\n",
            "Count for Embarked - S = 644\n",
            "Survival Rate for Embarked - S = 33.7%\n"
          ],
          "name": "stdout"
        },
        {
          "output_type": "display_data",
          "data": {
            "image/png": "[encoded data removed]",
            "text/plain": [
              "<Figure size 432x288 with 1 Axes>"
            ]
          },
          "metadata": {
            "tags": [],
            "needs_background": "light"
          }
        }
      ]
    },
    {
      "cell_type": "markdown",
      "metadata": {
        "id": "_bMSGb67jL6y",
        "colab_type": "text"
      },
      "source": [
        "We can infer that:\n",
        "\n",
        "1) Most people on the Titanic had embarked value of 'S'.\n",
        "\n",
        "2) People whose embarked column had value 'C' had high survival rate."
      ]
    },
    {
      "cell_type": "code",
      "metadata": {
        "id": "gQR59hVzLAcr",
        "colab_type": "code",
        "colab": {
          "base_uri": "https://localhost:8080/",
          "height": 181
        },
        "outputId": "cd3982ab-ed41-4950-9020-df7fe4984c1d"
      },
      "source": [
        "# Age\n",
        "train['Age'].describe()"
      ],
      "execution_count": 13,
      "outputs": [
        {
          "output_type": "execute_result",
          "data": {
            "text/plain": [
              "count    714.000000\n",
              "mean      29.699118\n",
              "std       14.526497\n",
              "min        0.420000\n",
              "25%       20.125000\n",
              "50%       28.000000\n",
              "75%       38.000000\n",
              "max       80.000000\n",
              "Name: Age, dtype: float64"
            ]
          },
          "metadata": {
            "tags": []
          },
          "execution_count": 13
        }
      ]
    },
    {
      "cell_type": "code",
      "metadata": {
        "id": "FN0a_WAelSRR",
        "colab_type": "code",
        "colab": {
          "base_uri": "https://localhost:8080/",
          "height": 297
        },
        "outputId": "9464a2f8-5ac7-470d-907b-d09f4d7979d0"
      },
      "source": [
        "# Violin plot\n",
        "sb.violinplot('Pclass', 'Age', hue='Survived', data=train, split=True)"
      ],
      "execution_count": 14,
      "outputs": [
        {
          "output_type": "execute_result",
          "data": {
            "text/plain": [
              "<matplotlib.axes._subplots.AxesSubplot at 0x7ff9b76026d8>"
            ]
          },
          "metadata": {
            "tags": []
          },
          "execution_count": 14
        },
        {
          "output_type": "display_data",
          "data": {
            "image/png": "[encoded data removed]",
            "text/plain": [
              "<Figure size 432x288 with 1 Axes>"
            ]
          },
          "metadata": {
            "tags": [],
            "needs_background": "light"
          }
        }
      ]
    },
    {
      "cell_type": "markdown",
      "metadata": {
        "id": "P-DyzV0TluQ-",
        "colab_type": "text"
      },
      "source": [
        "From classes 2 and 3, it seems that children were given higher priorities due to small peaks below age 20. Also, younger people generally have a higher survival rate.\n",
        "\n",
        "Considering that children and women had relatively higher survival rates, we can assume that women and children were given higher priorities for the limited life boats on the Titanic. "
      ]
    },
    {
      "cell_type": "code",
      "metadata": {
        "id": "7HlcG6B_lk7v",
        "colab_type": "code",
        "colab": {
          "base_uri": "https://localhost:8080/",
          "height": 297
        },
        "outputId": "25c50b7e-b97b-42f0-df4c-9262b448a08f"
      },
      "source": [
        "# SibSp (Siblings and Spouses)\n",
        "sb.barplot(x='SibSp', y='Survived', data=train)"
      ],
      "execution_count": 15,
      "outputs": [
        {
          "output_type": "execute_result",
          "data": {
            "text/plain": [
              "<matplotlib.axes._subplots.AxesSubplot at 0x7ff9b7576748>"
            ]
          },
          "metadata": {
            "tags": []
          },
          "execution_count": 15
        },
        {
          "output_type": "display_data",
          "data": {
            "image/png": "[encoded data removed]",
            "text/plain": [
              "<Figure size 432x288 with 1 Axes>"
            ]
          },
          "metadata": {
            "tags": [],
            "needs_background": "light"
          }
        }
      ]
    },
    {
      "cell_type": "markdown",
      "metadata": {
        "id": "p_NXnHU_oSpx",
        "colab_type": "text"
      },
      "source": [
        "It appears that people with 1 or 2 siblings/spouses have relatively higher survival rate."
      ]
    },
    {
      "cell_type": "code",
      "metadata": {
        "id": "uBoVGtL9oIOV",
        "colab_type": "code",
        "colab": {
          "base_uri": "https://localhost:8080/",
          "height": 297
        },
        "outputId": "f05a1376-aa33-4046-e8e2-2475c9415526"
      },
      "source": [
        "# Parch (Parents and Children)\n",
        "sb.barplot(x='Parch', y='Survived', data=train)"
      ],
      "execution_count": 16,
      "outputs": [
        {
          "output_type": "execute_result",
          "data": {
            "text/plain": [
              "<matplotlib.axes._subplots.AxesSubplot at 0x7ff9b7602400>"
            ]
          },
          "metadata": {
            "tags": []
          },
          "execution_count": 16
        },
        {
          "output_type": "display_data",
          "data": {
            "image/png": "[encoded data removed]",
            "text/plain": [
              "<Figure size 432x288 with 1 Axes>"
            ]
          },
          "metadata": {
            "tags": [],
            "needs_background": "light"
          }
        }
      ]
    },
    {
      "cell_type": "markdown",
      "metadata": {
        "id": "kAG31RSjpBG2",
        "colab_type": "text"
      },
      "source": [
        "It appears that people with 1 to 3 parents/children have relatively higher survival rate.\n",
        "\n",
        "From the plots for both SibSp and Parch, it seems that a person with a small family has higher chance of survival. Conversely, people who are alone or have large families have lower chance of survival."
      ]
    },
    {
      "cell_type": "markdown",
      "metadata": {
        "id": "HheRchUBvdcd",
        "colab_type": "text"
      },
      "source": [
        "## Encoding Categorical Data, Feature Engineering and Data Imputation"
      ]
    },
    {
      "cell_type": "code",
      "metadata": {
        "id": "UzfEiepOo3Nb",
        "colab_type": "code",
        "colab": {
          "base_uri": "https://localhost:8080/",
          "height": 198
        },
        "outputId": "6dd6c0a4-12b8-4403-cd8b-ef35cdf0446d"
      },
      "source": [
        "X_train = train.drop(['PassengerId', 'Cabin', 'Ticket', 'Fare'], axis=1)\n",
        "y_train = train.Survived\n",
        "X_train = X_train.drop(['Survived'], axis=1)\n",
        "X_train.head()"
      ],
      "execution_count": 17,
      "outputs": [
        {
          "output_type": "execute_result",
          "data": {
            "text/html": [
              "<div>\n",
              "<style scoped>\n",
              "    .dataframe tbody tr th:only-of-type {\n",
              "        vertical-align: middle;\n",
              "    }\n",
              "\n",
              "    .dataframe tbody tr th {\n",
              "        vertical-align: top;\n",
              "    }\n",
              "\n",
              "    .dataframe thead th {\n",
              "        text-align: right;\n",
              "    }\n",
              "</style>\n",
              "<table border=\"1\" class=\"dataframe\">\n",
              "  <thead>\n",
              "    <tr style=\"text-align: right;\">\n",
              "      <th></th>\n",
              "      <th>Pclass</th>\n",
              "      <th>Name</th>\n",
              "      <th>Sex</th>\n",
              "      <th>Age</th>\n",
              "      <th>SibSp</th>\n",
              "      <th>Parch</th>\n",
              "      <th>Embarked</th>\n",
              "    </tr>\n",
              "  </thead>\n",
              "  <tbody>\n",
              "    <tr>\n",
              "      <th>0</th>\n",
              "      <td>3</td>\n",
              "      <td>Braund, Mr. Owen Harris</td>\n",
              "      <td>male</td>\n",
              "      <td>22.0</td>\n",
              "      <td>1</td>\n",
              "      <td>0</td>\n",
              "      <td>S</td>\n",
              "    </tr>\n",
              "    <tr>\n",
              "      <th>1</th>\n",
              "      <td>1</td>\n",
              "      <td>Cumings, Mrs. John Bradley (Florence Briggs Th...</td>\n",
              "      <td>female</td>\n",
              "      <td>38.0</td>\n",
              "      <td>1</td>\n",
              "      <td>0</td>\n",
              "      <td>C</td>\n",
              "    </tr>\n",
              "    <tr>\n",
              "      <th>2</th>\n",
              "      <td>3</td>\n",
              "      <td>Heikkinen, Miss. Laina</td>\n",
              "      <td>female</td>\n",
              "      <td>26.0</td>\n",
              "      <td>0</td>\n",
              "      <td>0</td>\n",
              "      <td>S</td>\n",
              "    </tr>\n",
              "    <tr>\n",
              "      <th>3</th>\n",
              "      <td>1</td>\n",
              "      <td>Futrelle, Mrs. Jacques Heath (Lily May Peel)</td>\n",
              "      <td>female</td>\n",
              "      <td>35.0</td>\n",
              "      <td>1</td>\n",
              "      <td>0</td>\n",
              "      <td>S</td>\n",
              "    </tr>\n",
              "    <tr>\n",
              "      <th>4</th>\n",
              "      <td>3</td>\n",
              "      <td>Allen, Mr. William Henry</td>\n",
              "      <td>male</td>\n",
              "      <td>35.0</td>\n",
              "      <td>0</td>\n",
              "      <td>0</td>\n",
              "      <td>S</td>\n",
              "    </tr>\n",
              "  </tbody>\n",
              "</table>\n",
              "</div>"
            ],
            "text/plain": [
              "   Pclass                                               Name  ... Parch  Embarked\n",
              "0       3                            Braund, Mr. Owen Harris  ...     0         S\n",
              "1       1  Cumings, Mrs. John Bradley (Florence Briggs Th...  ...     0         C\n",
              "2       3                             Heikkinen, Miss. Laina  ...     0         S\n",
              "3       1       Futrelle, Mrs. Jacques Heath (Lily May Peel)  ...     0         S\n",
              "4       3                           Allen, Mr. William Henry  ...     0         S\n",
              "\n",
              "[5 rows x 7 columns]"
            ]
          },
          "metadata": {
            "tags": []
          },
          "execution_count": 17
        }
      ]
    },
    {
      "cell_type": "code",
      "metadata": {
        "id": "KxTtl7JG3Zv-",
        "colab_type": "code",
        "colab": {
          "base_uri": "https://localhost:8080/",
          "height": 198
        },
        "outputId": "db5357b2-c4d4-493f-e0ed-934a93319774"
      },
      "source": [
        "X_test = test.drop(['PassengerId', 'Cabin', 'Ticket', 'Fare'], axis=1)\n",
        "X_test.head()"
      ],
      "execution_count": 18,
      "outputs": [
        {
          "output_type": "execute_result",
          "data": {
            "text/html": [
              "<div>\n",
              "<style scoped>\n",
              "    .dataframe tbody tr th:only-of-type {\n",
              "        vertical-align: middle;\n",
              "    }\n",
              "\n",
              "    .dataframe tbody tr th {\n",
              "        vertical-align: top;\n",
              "    }\n",
              "\n",
              "    .dataframe thead th {\n",
              "        text-align: right;\n",
              "    }\n",
              "</style>\n",
              "<table border=\"1\" class=\"dataframe\">\n",
              "  <thead>\n",
              "    <tr style=\"text-align: right;\">\n",
              "      <th></th>\n",
              "      <th>Pclass</th>\n",
              "      <th>Name</th>\n",
              "      <th>Sex</th>\n",
              "      <th>Age</th>\n",
              "      <th>SibSp</th>\n",
              "      <th>Parch</th>\n",
              "      <th>Embarked</th>\n",
              "    </tr>\n",
              "  </thead>\n",
              "  <tbody>\n",
              "    <tr>\n",
              "      <th>0</th>\n",
              "      <td>3</td>\n",
              "      <td>Kelly, Mr. James</td>\n",
              "      <td>male</td>\n",
              "      <td>34.5</td>\n",
              "      <td>0</td>\n",
              "      <td>0</td>\n",
              "      <td>Q</td>\n",
              "    </tr>\n",
              "    <tr>\n",
              "      <th>1</th>\n",
              "      <td>3</td>\n",
              "      <td>Wilkes, Mrs. James (Ellen Needs)</td>\n",
              "      <td>female</td>\n",
              "      <td>47.0</td>\n",
              "      <td>1</td>\n",
              "      <td>0</td>\n",
              "      <td>S</td>\n",
              "    </tr>\n",
              "    <tr>\n",
              "      <th>2</th>\n",
              "      <td>2</td>\n",
              "      <td>Myles, Mr. Thomas Francis</td>\n",
              "      <td>male</td>\n",
              "      <td>62.0</td>\n",
              "      <td>0</td>\n",
              "      <td>0</td>\n",
              "      <td>Q</td>\n",
              "    </tr>\n",
              "    <tr>\n",
              "      <th>3</th>\n",
              "      <td>3</td>\n",
              "      <td>Wirz, Mr. Albert</td>\n",
              "      <td>male</td>\n",
              "      <td>27.0</td>\n",
              "      <td>0</td>\n",
              "      <td>0</td>\n",
              "      <td>S</td>\n",
              "    </tr>\n",
              "    <tr>\n",
              "      <th>4</th>\n",
              "      <td>3</td>\n",
              "      <td>Hirvonen, Mrs. Alexander (Helga E Lindqvist)</td>\n",
              "      <td>female</td>\n",
              "      <td>22.0</td>\n",
              "      <td>1</td>\n",
              "      <td>1</td>\n",
              "      <td>S</td>\n",
              "    </tr>\n",
              "  </tbody>\n",
              "</table>\n",
              "</div>"
            ],
            "text/plain": [
              "   Pclass                                          Name  ... Parch  Embarked\n",
              "0       3                              Kelly, Mr. James  ...     0         Q\n",
              "1       3              Wilkes, Mrs. James (Ellen Needs)  ...     0         S\n",
              "2       2                     Myles, Mr. Thomas Francis  ...     0         Q\n",
              "3       3                              Wirz, Mr. Albert  ...     0         S\n",
              "4       3  Hirvonen, Mrs. Alexander (Helga E Lindqvist)  ...     1         S\n",
              "\n",
              "[5 rows x 7 columns]"
            ]
          },
          "metadata": {
            "tags": []
          },
          "execution_count": 18
        }
      ]
    },
    {
      "cell_type": "code",
      "metadata": {
        "id": "93EX6Gn2xDQh",
        "colab_type": "code",
        "colab": {}
      },
      "source": [
        "# Encoding Sex\n",
        "from sklearn.preprocessing import LabelEncoder\n",
        "le = LabelEncoder()\n",
        "X_train['Sex'] = le.fit_transform(X_train['Sex'])"
      ],
      "execution_count": 19,
      "outputs": []
    },
    {
      "cell_type": "code",
      "metadata": {
        "id": "luf4ki0p30XQ",
        "colab_type": "code",
        "colab": {}
      },
      "source": [
        "# Encoding Sex (test set)\n",
        "X_test['Sex'] = le.transform(X_test['Sex'])"
      ],
      "execution_count": 20,
      "outputs": []
    },
    {
      "cell_type": "code",
      "metadata": {
        "id": "FHNdcBB1xyTZ",
        "colab_type": "code",
        "colab": {}
      },
      "source": [
        "# One-Hot Encoding Pclass\n",
        "Pclass_train = pd.get_dummies(X_train.Pclass, prefix='Pclass')\n",
        "Pclass_test = pd.get_dummies(X_test.Pclass, prefix='Pclass')\n",
        "X_train = X_train.drop(['Pclass'], axis=1)\n",
        "X_test = X_test.drop(['Pclass'], axis=1)\n",
        "X_train = pd.concat([X_train, Pclass_train], axis=1)\n",
        "X_test = pd.concat([X_test, Pclass_test], axis=1)"
      ],
      "execution_count": 21,
      "outputs": []
    },
    {
      "cell_type": "code",
      "metadata": {
        "id": "CBsTELXTzEdZ",
        "colab_type": "code",
        "colab": {}
      },
      "source": [
        "# Take care of missing values for Embarked column\n",
        "null_indices = X_train['Embarked'].isnull()\n",
        "X_train.loc[null_indices, 'Embarked'] = 'S'\n",
        "\n",
        "# One-Hot Encoding Embarked\n",
        "Embarked_train = pd.get_dummies(X_train.Embarked, prefix='Embarked')\n",
        "Embarked_test = pd.get_dummies(X_test.Embarked, prefix='Embarked')\n",
        "X_train = X_train.drop(['Embarked'], axis=1)\n",
        "X_test = X_test.drop(['Embarked'], axis=1)\n",
        "X_train = pd.concat([X_train, Embarked_train], axis=1)\n",
        "X_test = pd.concat([X_test, Embarked_test], axis=1)"
      ],
      "execution_count": 22,
      "outputs": []
    },
    {
      "cell_type": "code",
      "metadata": {
        "id": "YUdzsp3t0lts",
        "colab_type": "code",
        "colab": {
          "base_uri": "https://localhost:8080/",
          "height": 198
        },
        "outputId": "25993c1c-b1fc-4b99-f3a6-607950271e64"
      },
      "source": [
        "X_train.head()"
      ],
      "execution_count": 23,
      "outputs": [
        {
          "output_type": "execute_result",
          "data": {
            "text/html": [
              "<div>\n",
              "<style scoped>\n",
              "    .dataframe tbody tr th:only-of-type {\n",
              "        vertical-align: middle;\n",
              "    }\n",
              "\n",
              "    .dataframe tbody tr th {\n",
              "        vertical-align: top;\n",
              "    }\n",
              "\n",
              "    .dataframe thead th {\n",
              "        text-align: right;\n",
              "    }\n",
              "</style>\n",
              "<table border=\"1\" class=\"dataframe\">\n",
              "  <thead>\n",
              "    <tr style=\"text-align: right;\">\n",
              "      <th></th>\n",
              "      <th>Name</th>\n",
              "      <th>Sex</th>\n",
              "      <th>Age</th>\n",
              "      <th>SibSp</th>\n",
              "      <th>Parch</th>\n",
              "      <th>Pclass_1</th>\n",
              "      <th>Pclass_2</th>\n",
              "      <th>Pclass_3</th>\n",
              "      <th>Embarked_C</th>\n",
              "      <th>Embarked_Q</th>\n",
              "      <th>Embarked_S</th>\n",
              "    </tr>\n",
              "  </thead>\n",
              "  <tbody>\n",
              "    <tr>\n",
              "      <th>0</th>\n",
              "      <td>Braund, Mr. Owen Harris</td>\n",
              "      <td>1</td>\n",
              "      <td>22.0</td>\n",
              "      <td>1</td>\n",
              "      <td>0</td>\n",
              "      <td>0</td>\n",
              "      <td>0</td>\n",
              "      <td>1</td>\n",
              "      <td>0</td>\n",
              "      <td>0</td>\n",
              "      <td>1</td>\n",
              "    </tr>\n",
              "    <tr>\n",
              "      <th>1</th>\n",
              "      <td>Cumings, Mrs. John Bradley (Florence Briggs Th...</td>\n",
              "      <td>0</td>\n",
              "      <td>38.0</td>\n",
              "      <td>1</td>\n",
              "      <td>0</td>\n",
              "      <td>1</td>\n",
              "      <td>0</td>\n",
              "      <td>0</td>\n",
              "      <td>1</td>\n",
              "      <td>0</td>\n",
              "      <td>0</td>\n",
              "    </tr>\n",
              "    <tr>\n",
              "      <th>2</th>\n",
              "      <td>Heikkinen, Miss. Laina</td>\n",
              "      <td>0</td>\n",
              "      <td>26.0</td>\n",
              "      <td>0</td>\n",
              "      <td>0</td>\n",
              "      <td>0</td>\n",
              "      <td>0</td>\n",
              "      <td>1</td>\n",
              "      <td>0</td>\n",
              "      <td>0</td>\n",
              "      <td>1</td>\n",
              "    </tr>\n",
              "    <tr>\n",
              "      <th>3</th>\n",
              "      <td>Futrelle, Mrs. Jacques Heath (Lily May Peel)</td>\n",
              "      <td>0</td>\n",
              "      <td>35.0</td>\n",
              "      <td>1</td>\n",
              "      <td>0</td>\n",
              "      <td>1</td>\n",
              "      <td>0</td>\n",
              "      <td>0</td>\n",
              "      <td>0</td>\n",
              "      <td>0</td>\n",
              "      <td>1</td>\n",
              "    </tr>\n",
              "    <tr>\n",
              "      <th>4</th>\n",
              "      <td>Allen, Mr. William Henry</td>\n",
              "      <td>1</td>\n",
              "      <td>35.0</td>\n",
              "      <td>0</td>\n",
              "      <td>0</td>\n",
              "      <td>0</td>\n",
              "      <td>0</td>\n",
              "      <td>1</td>\n",
              "      <td>0</td>\n",
              "      <td>0</td>\n",
              "      <td>1</td>\n",
              "    </tr>\n",
              "  </tbody>\n",
              "</table>\n",
              "</div>"
            ],
            "text/plain": [
              "                                                Name  ...  Embarked_S\n",
              "0                            Braund, Mr. Owen Harris  ...           1\n",
              "1  Cumings, Mrs. John Bradley (Florence Briggs Th...  ...           0\n",
              "2                             Heikkinen, Miss. Laina  ...           1\n",
              "3       Futrelle, Mrs. Jacques Heath (Lily May Peel)  ...           1\n",
              "4                           Allen, Mr. William Henry  ...           1\n",
              "\n",
              "[5 rows x 11 columns]"
            ]
          },
          "metadata": {
            "tags": []
          },
          "execution_count": 23
        }
      ]
    },
    {
      "cell_type": "code",
      "metadata": {
        "id": "RG_6z-bW5UJh",
        "colab_type": "code",
        "colab": {
          "base_uri": "https://localhost:8080/",
          "height": 198
        },
        "outputId": "b1b5e6ea-32cf-4d24-8c55-9e39eb5a89cb"
      },
      "source": [
        "X_test.head()"
      ],
      "execution_count": 24,
      "outputs": [
        {
          "output_type": "execute_result",
          "data": {
            "text/html": [
              "<div>\n",
              "<style scoped>\n",
              "    .dataframe tbody tr th:only-of-type {\n",
              "        vertical-align: middle;\n",
              "    }\n",
              "\n",
              "    .dataframe tbody tr th {\n",
              "        vertical-align: top;\n",
              "    }\n",
              "\n",
              "    .dataframe thead th {\n",
              "        text-align: right;\n",
              "    }\n",
              "</style>\n",
              "<table border=\"1\" class=\"dataframe\">\n",
              "  <thead>\n",
              "    <tr style=\"text-align: right;\">\n",
              "      <th></th>\n",
              "      <th>Name</th>\n",
              "      <th>Sex</th>\n",
              "      <th>Age</th>\n",
              "      <th>SibSp</th>\n",
              "      <th>Parch</th>\n",
              "      <th>Pclass_1</th>\n",
              "      <th>Pclass_2</th>\n",
              "      <th>Pclass_3</th>\n",
              "      <th>Embarked_C</th>\n",
              "      <th>Embarked_Q</th>\n",
              "      <th>Embarked_S</th>\n",
              "    </tr>\n",
              "  </thead>\n",
              "  <tbody>\n",
              "    <tr>\n",
              "      <th>0</th>\n",
              "      <td>Kelly, Mr. James</td>\n",
              "      <td>1</td>\n",
              "      <td>34.5</td>\n",
              "      <td>0</td>\n",
              "      <td>0</td>\n",
              "      <td>0</td>\n",
              "      <td>0</td>\n",
              "      <td>1</td>\n",
              "      <td>0</td>\n",
              "      <td>1</td>\n",
              "      <td>0</td>\n",
              "    </tr>\n",
              "    <tr>\n",
              "      <th>1</th>\n",
              "      <td>Wilkes, Mrs. James (Ellen Needs)</td>\n",
              "      <td>0</td>\n",
              "      <td>47.0</td>\n",
              "      <td>1</td>\n",
              "      <td>0</td>\n",
              "      <td>0</td>\n",
              "      <td>0</td>\n",
              "      <td>1</td>\n",
              "      <td>0</td>\n",
              "      <td>0</td>\n",
              "      <td>1</td>\n",
              "    </tr>\n",
              "    <tr>\n",
              "      <th>2</th>\n",
              "      <td>Myles, Mr. Thomas Francis</td>\n",
              "      <td>1</td>\n",
              "      <td>62.0</td>\n",
              "      <td>0</td>\n",
              "      <td>0</td>\n",
              "      <td>0</td>\n",
              "      <td>1</td>\n",
              "      <td>0</td>\n",
              "      <td>0</td>\n",
              "      <td>1</td>\n",
              "      <td>0</td>\n",
              "    </tr>\n",
              "    <tr>\n",
              "      <th>3</th>\n",
              "      <td>Wirz, Mr. Albert</td>\n",
              "      <td>1</td>\n",
              "      <td>27.0</td>\n",
              "      <td>0</td>\n",
              "      <td>0</td>\n",
              "      <td>0</td>\n",
              "      <td>0</td>\n",
              "      <td>1</td>\n",
              "      <td>0</td>\n",
              "      <td>0</td>\n",
              "      <td>1</td>\n",
              "    </tr>\n",
              "    <tr>\n",
              "      <th>4</th>\n",
              "      <td>Hirvonen, Mrs. Alexander (Helga E Lindqvist)</td>\n",
              "      <td>0</td>\n",
              "      <td>22.0</td>\n",
              "      <td>1</td>\n",
              "      <td>1</td>\n",
              "      <td>0</td>\n",
              "      <td>0</td>\n",
              "      <td>1</td>\n",
              "      <td>0</td>\n",
              "      <td>0</td>\n",
              "      <td>1</td>\n",
              "    </tr>\n",
              "  </tbody>\n",
              "</table>\n",
              "</div>"
            ],
            "text/plain": [
              "                                           Name  Sex  ...  Embarked_Q  Embarked_S\n",
              "0                              Kelly, Mr. James    1  ...           1           0\n",
              "1              Wilkes, Mrs. James (Ellen Needs)    0  ...           0           1\n",
              "2                     Myles, Mr. Thomas Francis    1  ...           1           0\n",
              "3                              Wirz, Mr. Albert    1  ...           0           1\n",
              "4  Hirvonen, Mrs. Alexander (Helga E Lindqvist)    0  ...           0           1\n",
              "\n",
              "[5 rows x 11 columns]"
            ]
          },
          "metadata": {
            "tags": []
          },
          "execution_count": 24
        }
      ]
    },
    {
      "cell_type": "code",
      "metadata": {
        "id": "vPDs9I6N7hJn",
        "colab_type": "code",
        "colab": {
          "base_uri": "https://localhost:8080/",
          "height": 198
        },
        "outputId": "6cd7e5e1-6e53-45db-8d5e-05d4c888bc1e"
      },
      "source": [
        "# Imputing Missing Values of Age - by engineering a new feature called \"Title\" \n",
        "# Title examples - 'Mr.', 'Miss.', etc.\n",
        "# Train set\n",
        "\n",
        "temp = X_train.Name.str.split(',').str[1]\n",
        "X_train.iloc[:, 0] = pd.DataFrame(temp).Name.str.split('\\s+').str[1]\n",
        "X_train.head()"
      ],
      "execution_count": 25,
      "outputs": [
        {
          "output_type": "execute_result",
          "data": {
            "text/html": [
              "<div>\n",
              "<style scoped>\n",
              "    .dataframe tbody tr th:only-of-type {\n",
              "        vertical-align: middle;\n",
              "    }\n",
              "\n",
              "    .dataframe tbody tr th {\n",
              "        vertical-align: top;\n",
              "    }\n",
              "\n",
              "    .dataframe thead th {\n",
              "        text-align: right;\n",
              "    }\n",
              "</style>\n",
              "<table border=\"1\" class=\"dataframe\">\n",
              "  <thead>\n",
              "    <tr style=\"text-align: right;\">\n",
              "      <th></th>\n",
              "      <th>Name</th>\n",
              "      <th>Sex</th>\n",
              "      <th>Age</th>\n",
              "      <th>SibSp</th>\n",
              "      <th>Parch</th>\n",
              "      <th>Pclass_1</th>\n",
              "      <th>Pclass_2</th>\n",
              "      <th>Pclass_3</th>\n",
              "      <th>Embarked_C</th>\n",
              "      <th>Embarked_Q</th>\n",
              "      <th>Embarked_S</th>\n",
              "    </tr>\n",
              "  </thead>\n",
              "  <tbody>\n",
              "    <tr>\n",
              "      <th>0</th>\n",
              "      <td>Mr.</td>\n",
              "      <td>1</td>\n",
              "      <td>22.0</td>\n",
              "      <td>1</td>\n",
              "      <td>0</td>\n",
              "      <td>0</td>\n",
              "      <td>0</td>\n",
              "      <td>1</td>\n",
              "      <td>0</td>\n",
              "      <td>0</td>\n",
              "      <td>1</td>\n",
              "    </tr>\n",
              "    <tr>\n",
              "      <th>1</th>\n",
              "      <td>Mrs.</td>\n",
              "      <td>0</td>\n",
              "      <td>38.0</td>\n",
              "      <td>1</td>\n",
              "      <td>0</td>\n",
              "      <td>1</td>\n",
              "      <td>0</td>\n",
              "      <td>0</td>\n",
              "      <td>1</td>\n",
              "      <td>0</td>\n",
              "      <td>0</td>\n",
              "    </tr>\n",
              "    <tr>\n",
              "      <th>2</th>\n",
              "      <td>Miss.</td>\n",
              "      <td>0</td>\n",
              "      <td>26.0</td>\n",
              "      <td>0</td>\n",
              "      <td>0</td>\n",
              "      <td>0</td>\n",
              "      <td>0</td>\n",
              "      <td>1</td>\n",
              "      <td>0</td>\n",
              "      <td>0</td>\n",
              "      <td>1</td>\n",
              "    </tr>\n",
              "    <tr>\n",
              "      <th>3</th>\n",
              "      <td>Mrs.</td>\n",
              "      <td>0</td>\n",
              "      <td>35.0</td>\n",
              "      <td>1</td>\n",
              "      <td>0</td>\n",
              "      <td>1</td>\n",
              "      <td>0</td>\n",
              "      <td>0</td>\n",
              "      <td>0</td>\n",
              "      <td>0</td>\n",
              "      <td>1</td>\n",
              "    </tr>\n",
              "    <tr>\n",
              "      <th>4</th>\n",
              "      <td>Mr.</td>\n",
              "      <td>1</td>\n",
              "      <td>35.0</td>\n",
              "      <td>0</td>\n",
              "      <td>0</td>\n",
              "      <td>0</td>\n",
              "      <td>0</td>\n",
              "      <td>1</td>\n",
              "      <td>0</td>\n",
              "      <td>0</td>\n",
              "      <td>1</td>\n",
              "    </tr>\n",
              "  </tbody>\n",
              "</table>\n",
              "</div>"
            ],
            "text/plain": [
              "    Name  Sex   Age  SibSp  ...  Pclass_3  Embarked_C  Embarked_Q  Embarked_S\n",
              "0    Mr.    1  22.0      1  ...         1           0           0           1\n",
              "1   Mrs.    0  38.0      1  ...         0           1           0           0\n",
              "2  Miss.    0  26.0      0  ...         1           0           0           1\n",
              "3   Mrs.    0  35.0      1  ...         0           0           0           1\n",
              "4    Mr.    1  35.0      0  ...         1           0           0           1\n",
              "\n",
              "[5 rows x 11 columns]"
            ]
          },
          "metadata": {
            "tags": []
          },
          "execution_count": 25
        }
      ]
    },
    {
      "cell_type": "code",
      "metadata": {
        "id": "8FJHGf0P8IdG",
        "colab_type": "code",
        "colab": {
          "base_uri": "https://localhost:8080/",
          "height": 198
        },
        "outputId": "37b3afcf-5849-4ff3-ea35-b65b509a996e"
      },
      "source": [
        "# Imputing Missing Values of Age - by engineering a new feature called \"Title\" \n",
        "# Title examples - 'Mr.', 'Miss.', etc.\n",
        "# Test set\n",
        "\n",
        "temp = X_test.Name.str.split(',').str[1]\n",
        "X_test.iloc[:, 0] = pd.DataFrame(temp).Name.str.split('\\s+').str[1]\n",
        "X_test.head()"
      ],
      "execution_count": 26,
      "outputs": [
        {
          "output_type": "execute_result",
          "data": {
            "text/html": [
              "<div>\n",
              "<style scoped>\n",
              "    .dataframe tbody tr th:only-of-type {\n",
              "        vertical-align: middle;\n",
              "    }\n",
              "\n",
              "    .dataframe tbody tr th {\n",
              "        vertical-align: top;\n",
              "    }\n",
              "\n",
              "    .dataframe thead th {\n",
              "        text-align: right;\n",
              "    }\n",
              "</style>\n",
              "<table border=\"1\" class=\"dataframe\">\n",
              "  <thead>\n",
              "    <tr style=\"text-align: right;\">\n",
              "      <th></th>\n",
              "      <th>Name</th>\n",
              "      <th>Sex</th>\n",
              "      <th>Age</th>\n",
              "      <th>SibSp</th>\n",
              "      <th>Parch</th>\n",
              "      <th>Pclass_1</th>\n",
              "      <th>Pclass_2</th>\n",
              "      <th>Pclass_3</th>\n",
              "      <th>Embarked_C</th>\n",
              "      <th>Embarked_Q</th>\n",
              "      <th>Embarked_S</th>\n",
              "    </tr>\n",
              "  </thead>\n",
              "  <tbody>\n",
              "    <tr>\n",
              "      <th>0</th>\n",
              "      <td>Mr.</td>\n",
              "      <td>1</td>\n",
              "      <td>34.5</td>\n",
              "      <td>0</td>\n",
              "      <td>0</td>\n",
              "      <td>0</td>\n",
              "      <td>0</td>\n",
              "      <td>1</td>\n",
              "      <td>0</td>\n",
              "      <td>1</td>\n",
              "      <td>0</td>\n",
              "    </tr>\n",
              "    <tr>\n",
              "      <th>1</th>\n",
              "      <td>Mrs.</td>\n",
              "      <td>0</td>\n",
              "      <td>47.0</td>\n",
              "      <td>1</td>\n",
              "      <td>0</td>\n",
              "      <td>0</td>\n",
              "      <td>0</td>\n",
              "      <td>1</td>\n",
              "      <td>0</td>\n",
              "      <td>0</td>\n",
              "      <td>1</td>\n",
              "    </tr>\n",
              "    <tr>\n",
              "      <th>2</th>\n",
              "      <td>Mr.</td>\n",
              "      <td>1</td>\n",
              "      <td>62.0</td>\n",
              "      <td>0</td>\n",
              "      <td>0</td>\n",
              "      <td>0</td>\n",
              "      <td>1</td>\n",
              "      <td>0</td>\n",
              "      <td>0</td>\n",
              "      <td>1</td>\n",
              "      <td>0</td>\n",
              "    </tr>\n",
              "    <tr>\n",
              "      <th>3</th>\n",
              "      <td>Mr.</td>\n",
              "      <td>1</td>\n",
              "      <td>27.0</td>\n",
              "      <td>0</td>\n",
              "      <td>0</td>\n",
              "      <td>0</td>\n",
              "      <td>0</td>\n",
              "      <td>1</td>\n",
              "      <td>0</td>\n",
              "      <td>0</td>\n",
              "      <td>1</td>\n",
              "    </tr>\n",
              "    <tr>\n",
              "      <th>4</th>\n",
              "      <td>Mrs.</td>\n",
              "      <td>0</td>\n",
              "      <td>22.0</td>\n",
              "      <td>1</td>\n",
              "      <td>1</td>\n",
              "      <td>0</td>\n",
              "      <td>0</td>\n",
              "      <td>1</td>\n",
              "      <td>0</td>\n",
              "      <td>0</td>\n",
              "      <td>1</td>\n",
              "    </tr>\n",
              "  </tbody>\n",
              "</table>\n",
              "</div>"
            ],
            "text/plain": [
              "   Name  Sex   Age  SibSp  ...  Pclass_3  Embarked_C  Embarked_Q  Embarked_S\n",
              "0   Mr.    1  34.5      0  ...         1           0           1           0\n",
              "1  Mrs.    0  47.0      1  ...         1           0           0           1\n",
              "2   Mr.    1  62.0      0  ...         0           0           1           0\n",
              "3   Mr.    1  27.0      0  ...         1           0           0           1\n",
              "4  Mrs.    0  22.0      1  ...         1           0           0           1\n",
              "\n",
              "[5 rows x 11 columns]"
            ]
          },
          "metadata": {
            "tags": []
          },
          "execution_count": 26
        }
      ]
    },
    {
      "cell_type": "code",
      "metadata": {
        "id": "avSbG1kHAOB9",
        "colab_type": "code",
        "colab": {}
      },
      "source": [
        "X_train = X_train.rename(columns={'Name': 'Title'})\n",
        "X_test = X_test.rename(columns={'Name': 'Title'})"
      ],
      "execution_count": 27,
      "outputs": []
    },
    {
      "cell_type": "code",
      "metadata": {
        "id": "g32bEQuK8KBk",
        "colab_type": "code",
        "colab": {
          "base_uri": "https://localhost:8080/",
          "height": 551
        },
        "outputId": "f2d8fec0-7759-4ac2-a19d-43cb543228ca"
      },
      "source": [
        "#List of different titles\n",
        "ax = plt.subplot()\n",
        "ax.set_ylabel('Mean age')\n",
        "X_train.groupby('Title').mean()['Age'].plot(kind='bar',figsize=(13,8), ax = ax)"
      ],
      "execution_count": 28,
      "outputs": [
        {
          "output_type": "execute_result",
          "data": {
            "text/plain": [
              "<matplotlib.axes._subplots.AxesSubplot at 0x7ff9b6448160>"
            ]
          },
          "metadata": {
            "tags": []
          },
          "execution_count": 28
        },
        {
          "output_type": "display_data",
          "data": {
            "image/png": "[encoded data removed]",
            "text/plain": [
              "<Figure size 936x576 with 1 Axes>"
            ]
          },
          "metadata": {
            "tags": [],
            "needs_background": "light"
          }
        }
      ]
    },
    {
      "cell_type": "code",
      "metadata": {
        "id": "uDQiUEYL-948",
        "colab_type": "code",
        "colab": {
          "base_uri": "https://localhost:8080/",
          "height": 72
        },
        "outputId": "4882c978-b17a-4b51-e076-3118319ce69f"
      },
      "source": [
        "X_train.Title.unique()"
      ],
      "execution_count": 29,
      "outputs": [
        {
          "output_type": "execute_result",
          "data": {
            "text/plain": [
              "array(['Mr.', 'Mrs.', 'Miss.', 'Master.', 'Don.', 'Rev.', 'Dr.', 'Mme.',\n",
              "       'Ms.', 'Major.', 'Lady.', 'Sir.', 'Mlle.', 'Col.', 'Capt.', 'the',\n",
              "       'Jonkheer.'], dtype=object)"
            ]
          },
          "metadata": {
            "tags": []
          },
          "execution_count": 29
        }
      ]
    },
    {
      "cell_type": "code",
      "metadata": {
        "id": "xthWBB78AkMU",
        "colab_type": "code",
        "colab": {
          "base_uri": "https://localhost:8080/",
          "height": 326
        },
        "outputId": "5ca2780b-adb4-4bf7-a5ad-73b6d66230fc"
      },
      "source": [
        "title_age_dict = X_train.groupby('Title')['Age'].mean().to_dict()\n",
        "title_age_dict"
      ],
      "execution_count": 30,
      "outputs": [
        {
          "output_type": "execute_result",
          "data": {
            "text/plain": [
              "{'Capt.': 70.0,\n",
              " 'Col.': 58.0,\n",
              " 'Don.': 40.0,\n",
              " 'Dr.': 42.0,\n",
              " 'Jonkheer.': 38.0,\n",
              " 'Lady.': 48.0,\n",
              " 'Major.': 48.5,\n",
              " 'Master.': 4.574166666666667,\n",
              " 'Miss.': 21.773972602739725,\n",
              " 'Mlle.': 24.0,\n",
              " 'Mme.': 24.0,\n",
              " 'Mr.': 32.368090452261306,\n",
              " 'Mrs.': 35.898148148148145,\n",
              " 'Ms.': 28.0,\n",
              " 'Rev.': 43.166666666666664,\n",
              " 'Sir.': 49.0,\n",
              " 'the': 33.0}"
            ]
          },
          "metadata": {
            "tags": []
          },
          "execution_count": 30
        }
      ]
    },
    {
      "cell_type": "code",
      "metadata": {
        "id": "dJR1K53mBHLl",
        "colab_type": "code",
        "colab": {}
      },
      "source": [
        "for title, age in title_age_dict.items():\n",
        "  X_train.loc[(X_train.Age.isnull()) & (X_train['Title'] == title), 'Age'] = age\n",
        "  X_test.loc[(X_test.Age.isnull()) & (X_test['Title'] == title), 'Age'] = age"
      ],
      "execution_count": 31,
      "outputs": []
    },
    {
      "cell_type": "code",
      "metadata": {
        "id": "NBIfGA0RCVA7",
        "colab_type": "code",
        "colab": {
          "base_uri": "https://localhost:8080/",
          "height": 198
        },
        "outputId": "2c1ab41f-4399-48d3-d090-bc13da765ae7"
      },
      "source": [
        "X_train.head()"
      ],
      "execution_count": 32,
      "outputs": [
        {
          "output_type": "execute_result",
          "data": {
            "text/html": [
              "<div>\n",
              "<style scoped>\n",
              "    .dataframe tbody tr th:only-of-type {\n",
              "        vertical-align: middle;\n",
              "    }\n",
              "\n",
              "    .dataframe tbody tr th {\n",
              "        vertical-align: top;\n",
              "    }\n",
              "\n",
              "    .dataframe thead th {\n",
              "        text-align: right;\n",
              "    }\n",
              "</style>\n",
              "<table border=\"1\" class=\"dataframe\">\n",
              "  <thead>\n",
              "    <tr style=\"text-align: right;\">\n",
              "      <th></th>\n",
              "      <th>Title</th>\n",
              "      <th>Sex</th>\n",
              "      <th>Age</th>\n",
              "      <th>SibSp</th>\n",
              "      <th>Parch</th>\n",
              "      <th>Pclass_1</th>\n",
              "      <th>Pclass_2</th>\n",
              "      <th>Pclass_3</th>\n",
              "      <th>Embarked_C</th>\n",
              "      <th>Embarked_Q</th>\n",
              "      <th>Embarked_S</th>\n",
              "    </tr>\n",
              "  </thead>\n",
              "  <tbody>\n",
              "    <tr>\n",
              "      <th>0</th>\n",
              "      <td>Mr.</td>\n",
              "      <td>1</td>\n",
              "      <td>22.0</td>\n",
              "      <td>1</td>\n",
              "      <td>0</td>\n",
              "      <td>0</td>\n",
              "      <td>0</td>\n",
              "      <td>1</td>\n",
              "      <td>0</td>\n",
              "      <td>0</td>\n",
              "      <td>1</td>\n",
              "    </tr>\n",
              "    <tr>\n",
              "      <th>1</th>\n",
              "      <td>Mrs.</td>\n",
              "      <td>0</td>\n",
              "      <td>38.0</td>\n",
              "      <td>1</td>\n",
              "      <td>0</td>\n",
              "      <td>1</td>\n",
              "      <td>0</td>\n",
              "      <td>0</td>\n",
              "      <td>1</td>\n",
              "      <td>0</td>\n",
              "      <td>0</td>\n",
              "    </tr>\n",
              "    <tr>\n",
              "      <th>2</th>\n",
              "      <td>Miss.</td>\n",
              "      <td>0</td>\n",
              "      <td>26.0</td>\n",
              "      <td>0</td>\n",
              "      <td>0</td>\n",
              "      <td>0</td>\n",
              "      <td>0</td>\n",
              "      <td>1</td>\n",
              "      <td>0</td>\n",
              "      <td>0</td>\n",
              "      <td>1</td>\n",
              "    </tr>\n",
              "    <tr>\n",
              "      <th>3</th>\n",
              "      <td>Mrs.</td>\n",
              "      <td>0</td>\n",
              "      <td>35.0</td>\n",
              "      <td>1</td>\n",
              "      <td>0</td>\n",
              "      <td>1</td>\n",
              "      <td>0</td>\n",
              "      <td>0</td>\n",
              "      <td>0</td>\n",
              "      <td>0</td>\n",
              "      <td>1</td>\n",
              "    </tr>\n",
              "    <tr>\n",
              "      <th>4</th>\n",
              "      <td>Mr.</td>\n",
              "      <td>1</td>\n",
              "      <td>35.0</td>\n",
              "      <td>0</td>\n",
              "      <td>0</td>\n",
              "      <td>0</td>\n",
              "      <td>0</td>\n",
              "      <td>1</td>\n",
              "      <td>0</td>\n",
              "      <td>0</td>\n",
              "      <td>1</td>\n",
              "    </tr>\n",
              "  </tbody>\n",
              "</table>\n",
              "</div>"
            ],
            "text/plain": [
              "   Title  Sex   Age  SibSp  ...  Pclass_3  Embarked_C  Embarked_Q  Embarked_S\n",
              "0    Mr.    1  22.0      1  ...         1           0           0           1\n",
              "1   Mrs.    0  38.0      1  ...         0           1           0           0\n",
              "2  Miss.    0  26.0      0  ...         1           0           0           1\n",
              "3   Mrs.    0  35.0      1  ...         0           0           0           1\n",
              "4    Mr.    1  35.0      0  ...         1           0           0           1\n",
              "\n",
              "[5 rows x 11 columns]"
            ]
          },
          "metadata": {
            "tags": []
          },
          "execution_count": 32
        }
      ]
    },
    {
      "cell_type": "code",
      "metadata": {
        "id": "Ny99UJyZCdcB",
        "colab_type": "code",
        "colab": {}
      },
      "source": [
        "X_train = X_train.drop(['Title'], axis=1)\n",
        "X_test = X_test.drop(['Title'], axis=1)"
      ],
      "execution_count": 33,
      "outputs": []
    },
    {
      "cell_type": "code",
      "metadata": {
        "id": "KmivuOPmP09O",
        "colab_type": "code",
        "colab": {
          "base_uri": "https://localhost:8080/",
          "height": 198
        },
        "outputId": "4d5fdcaf-56b0-4d93-f258-2e984cde8f85"
      },
      "source": [
        "X_train.head()"
      ],
      "execution_count": 63,
      "outputs": [
        {
          "output_type": "execute_result",
          "data": {
            "text/html": [
              "<div>\n",
              "<style scoped>\n",
              "    .dataframe tbody tr th:only-of-type {\n",
              "        vertical-align: middle;\n",
              "    }\n",
              "\n",
              "    .dataframe tbody tr th {\n",
              "        vertical-align: top;\n",
              "    }\n",
              "\n",
              "    .dataframe thead th {\n",
              "        text-align: right;\n",
              "    }\n",
              "</style>\n",
              "<table border=\"1\" class=\"dataframe\">\n",
              "  <thead>\n",
              "    <tr style=\"text-align: right;\">\n",
              "      <th></th>\n",
              "      <th>Sex</th>\n",
              "      <th>Age</th>\n",
              "      <th>SibSp</th>\n",
              "      <th>Parch</th>\n",
              "      <th>Pclass_1</th>\n",
              "      <th>Pclass_2</th>\n",
              "      <th>Pclass_3</th>\n",
              "      <th>Embarked_C</th>\n",
              "      <th>Embarked_Q</th>\n",
              "      <th>Embarked_S</th>\n",
              "    </tr>\n",
              "  </thead>\n",
              "  <tbody>\n",
              "    <tr>\n",
              "      <th>0</th>\n",
              "      <td>1</td>\n",
              "      <td>22.0</td>\n",
              "      <td>1</td>\n",
              "      <td>0</td>\n",
              "      <td>0</td>\n",
              "      <td>0</td>\n",
              "      <td>1</td>\n",
              "      <td>0</td>\n",
              "      <td>0</td>\n",
              "      <td>1</td>\n",
              "    </tr>\n",
              "    <tr>\n",
              "      <th>1</th>\n",
              "      <td>0</td>\n",
              "      <td>38.0</td>\n",
              "      <td>1</td>\n",
              "      <td>0</td>\n",
              "      <td>1</td>\n",
              "      <td>0</td>\n",
              "      <td>0</td>\n",
              "      <td>1</td>\n",
              "      <td>0</td>\n",
              "      <td>0</td>\n",
              "    </tr>\n",
              "    <tr>\n",
              "      <th>2</th>\n",
              "      <td>0</td>\n",
              "      <td>26.0</td>\n",
              "      <td>0</td>\n",
              "      <td>0</td>\n",
              "      <td>0</td>\n",
              "      <td>0</td>\n",
              "      <td>1</td>\n",
              "      <td>0</td>\n",
              "      <td>0</td>\n",
              "      <td>1</td>\n",
              "    </tr>\n",
              "    <tr>\n",
              "      <th>3</th>\n",
              "      <td>0</td>\n",
              "      <td>35.0</td>\n",
              "      <td>1</td>\n",
              "      <td>0</td>\n",
              "      <td>1</td>\n",
              "      <td>0</td>\n",
              "      <td>0</td>\n",
              "      <td>0</td>\n",
              "      <td>0</td>\n",
              "      <td>1</td>\n",
              "    </tr>\n",
              "    <tr>\n",
              "      <th>4</th>\n",
              "      <td>1</td>\n",
              "      <td>35.0</td>\n",
              "      <td>0</td>\n",
              "      <td>0</td>\n",
              "      <td>0</td>\n",
              "      <td>0</td>\n",
              "      <td>1</td>\n",
              "      <td>0</td>\n",
              "      <td>0</td>\n",
              "      <td>1</td>\n",
              "    </tr>\n",
              "  </tbody>\n",
              "</table>\n",
              "</div>"
            ],
            "text/plain": [
              "   Sex   Age  SibSp  Parch  ...  Pclass_3  Embarked_C  Embarked_Q  Embarked_S\n",
              "0    1  22.0      1      0  ...         1           0           0           1\n",
              "1    0  38.0      1      0  ...         0           1           0           0\n",
              "2    0  26.0      0      0  ...         1           0           0           1\n",
              "3    0  35.0      1      0  ...         0           0           0           1\n",
              "4    1  35.0      0      0  ...         1           0           0           1\n",
              "\n",
              "[5 rows x 10 columns]"
            ]
          },
          "metadata": {
            "tags": []
          },
          "execution_count": 63
        }
      ]
    },
    {
      "cell_type": "markdown",
      "metadata": {
        "id": "JRm29Hy4FS8X",
        "colab_type": "text"
      },
      "source": [
        "### Machine Learning! Testing various Classification techniques/models"
      ]
    },
    {
      "cell_type": "code",
      "metadata": {
        "id": "QG6ZF07WE80N",
        "colab_type": "code",
        "colab": {
          "base_uri": "https://localhost:8080/",
          "height": 72
        },
        "outputId": "4fea025b-b8af-4673-9710-3d61447d7425"
      },
      "source": [
        "# Logistic Regression\n",
        "from sklearn.linear_model import LogisticRegression\n",
        "classifierLR = LogisticRegression(random_state = 0, max_iter=200)\n",
        "\n",
        "# Applying k-Fold Cross Validation\n",
        "from sklearn.model_selection import cross_val_score\n",
        "accuracies = cross_val_score(estimator = classifierLR, X=X_train , y=y_train , cv = 10)\n",
        "print(\"Logistic Regression:\\nAccuracy:\", accuracies.mean(), \"+/-\", accuracies.std(),\"\\n\")"
      ],
      "execution_count": 47,
      "outputs": [
        {
          "output_type": "stream",
          "text": [
            "Logistic Regression:\n",
            "Accuracy: 0.8024843945068664 +/- 0.01875058388183171 \n",
            "\n"
          ],
          "name": "stdout"
        }
      ]
    },
    {
      "cell_type": "code",
      "metadata": {
        "id": "qttM_TEVPjfN",
        "colab_type": "code",
        "colab": {
          "base_uri": "https://localhost:8080/",
          "height": 72
        },
        "outputId": "8e4c2bdd-0e55-4c77-80b5-76c13ccbd9eb"
      },
      "source": [
        "# Support Vector Machine (SVM) with RBF kernel\n",
        "from sklearn.svm import SVC\n",
        "classifierSVM = SVC(kernel = 'rbf', random_state = 0, C=10)\n",
        "\n",
        "# Applying k-Fold Cross Validation\n",
        "from sklearn.model_selection import cross_val_score\n",
        "accuracies = cross_val_score(estimator = classifierSVM, X=X_train , y=y_train , cv = 10)\n",
        "print(\"SVM:\\nAccuracy:\", accuracies.mean(), \"+/-\", accuracies.std(),\"\\n\")"
      ],
      "execution_count": 48,
      "outputs": [
        {
          "output_type": "stream",
          "text": [
            "SVM:\n",
            "Accuracy: 0.8170162297128589 +/- 0.037107940613126104 \n",
            "\n"
          ],
          "name": "stdout"
        }
      ]
    },
    {
      "cell_type": "code",
      "metadata": {
        "id": "S7IAHlbrRp6t",
        "colab_type": "code",
        "colab": {
          "base_uri": "https://localhost:8080/",
          "height": 72
        },
        "outputId": "7fd0929d-af6d-448a-ad29-2d011828d82a"
      },
      "source": [
        "# Naive Bayes\n",
        "from sklearn.naive_bayes import GaussianNB\n",
        "classifierNB = GaussianNB()\n",
        "\n",
        "# Applying k-Fold Cross Validation\n",
        "from sklearn.model_selection import cross_val_score\n",
        "accuracies = cross_val_score(estimator = classifierNB, X=X_train , y=y_train , cv = 10)\n",
        "print(\"Naive Bayes:\\nAccuracy:\", accuracies.mean(), \"+/-\", accuracies.std(),\"\\n\")"
      ],
      "execution_count": 49,
      "outputs": [
        {
          "output_type": "stream",
          "text": [
            "Naive Bayes:\n",
            "Accuracy: 0.76541822721598 +/- 0.03505625980335946 \n",
            "\n"
          ],
          "name": "stdout"
        }
      ]
    },
    {
      "cell_type": "code",
      "metadata": {
        "id": "QdlJycwJQ03F",
        "colab_type": "code",
        "colab": {
          "base_uri": "https://localhost:8080/",
          "height": 54
        },
        "outputId": "ae433833-cc1c-4e05-c303-2509d737c185"
      },
      "source": [
        "# Random Forest\n",
        "from sklearn.ensemble import RandomForestClassifier\n",
        "classifierRF = RandomForestClassifier(n_estimators = 100, criterion = 'entropy', random_state = 0)\n",
        "\n",
        "# Applying k-Fold Cross Validation\n",
        "from sklearn.model_selection import cross_val_score\n",
        "accuracies = cross_val_score(estimator = classifierRF, X=X_train , y=y_train , cv = 10)\n",
        "print(\"Random Forest:\\n Accuracy:\", accuracies.mean(), \"+/-\", accuracies.std())"
      ],
      "execution_count": 50,
      "outputs": [
        {
          "output_type": "stream",
          "text": [
            "Random Forest:\n",
            " Accuracy: 0.7992384519350811 +/- 0.0504793473953388\n"
          ],
          "name": "stdout"
        }
      ]
    },
    {
      "cell_type": "code",
      "metadata": {
        "id": "ogJc1zzESHb5",
        "colab_type": "code",
        "colab": {
          "base_uri": "https://localhost:8080/",
          "height": 72
        },
        "outputId": "4ed4f79f-80c2-490f-b63f-b0ca521cd336"
      },
      "source": [
        "# K-Nearest Neighbours (KNN)\n",
        "from sklearn.neighbors import KNeighborsClassifier\n",
        "classifierKNN = KNeighborsClassifier(n_neighbors = 9, metric = 'minkowski', p = 2)\n",
        "\n",
        "\n",
        "# Applying k-Fold Cross Validation\n",
        "from sklearn.model_selection import cross_val_score\n",
        "accuracies = cross_val_score(estimator = classifierKNN, X=X_train , y=y_train , cv = 10)\n",
        "print(\"K-NN:\\n Accuracy:\", accuracies.mean(), \"+/-\", accuracies.std(),\"\\n\")"
      ],
      "execution_count": 51,
      "outputs": [
        {
          "output_type": "stream",
          "text": [
            "K-NN:\n",
            " Accuracy: 0.7677028714107366 +/- 0.028642479733341282 \n",
            "\n"
          ],
          "name": "stdout"
        }
      ]
    },
    {
      "cell_type": "code",
      "metadata": {
        "id": "lfL1XWOHSVc4",
        "colab_type": "code",
        "colab": {
          "base_uri": "https://localhost:8080/",
          "height": 72
        },
        "outputId": "c5b0946c-ba4f-4e13-903d-40ef9f6f8bce"
      },
      "source": [
        "# Decision Tree\n",
        "from sklearn.tree import DecisionTreeClassifier\n",
        "classifierDT = DecisionTreeClassifier(random_state = 0, criterion='entropy')\n",
        "\n",
        "# Applying k-Fold Cross Validation\n",
        "from sklearn.model_selection import cross_val_score\n",
        "accuracies = cross_val_score(estimator = classifierDT, X=X_train , y=y_train , cv = 10)\n",
        "print(\"Decision Tree:\\n Accuracy:\", accuracies.mean(), \"+/-\", accuracies.std(),\"\\n\")"
      ],
      "execution_count": 52,
      "outputs": [
        {
          "output_type": "stream",
          "text": [
            "Decision Tree:\n",
            " Accuracy: 0.7846192259675405 +/- 0.04716579791343462 \n",
            "\n"
          ],
          "name": "stdout"
        }
      ]
    },
    {
      "cell_type": "code",
      "metadata": {
        "id": "bp6ZTzjyyZrV",
        "colab_type": "code",
        "colab": {
          "base_uri": "https://localhost:8080/",
          "height": 363
        },
        "outputId": "7f990d3e-3789-4ea1-b4f4-96bcdaf2b55d"
      },
      "source": [
        "classifierRF.fit(X_train, y_train)\n",
        "y_pred = classifierRF.predict(X_test)\n",
        "y_pred"
      ],
      "execution_count": 64,
      "outputs": [
        {
          "output_type": "execute_result",
          "data": {
            "text/plain": [
              "array([0, 0, 0, 1, 0, 0, 0, 0, 0, 0, 0, 0, 1, 0, 1, 1, 0, 0, 0, 1, 0, 1,\n",
              "       1, 1, 1, 0, 1, 0, 0, 0, 0, 0, 0, 1, 0, 0, 0, 1, 0, 0, 0, 0, 0, 1,\n",
              "       1, 0, 0, 0, 1, 0, 1, 0, 1, 1, 0, 0, 0, 0, 0, 1, 0, 0, 0, 1, 1, 1,\n",
              "       0, 0, 0, 1, 1, 0, 0, 1, 1, 0, 0, 1, 0, 1, 1, 0, 1, 0, 0, 0, 0, 1,\n",
              "       0, 1, 0, 0, 0, 0, 0, 0, 1, 0, 0, 0, 1, 0, 0, 0, 1, 0, 0, 0, 0, 0,\n",
              "       0, 1, 1, 0, 1, 0, 0, 1, 0, 1, 1, 0, 1, 0, 0, 1, 0, 1, 0, 0, 1, 0,\n",
              "       0, 0, 0, 0, 1, 0, 1, 0, 0, 1, 0, 0, 1, 0, 0, 0, 0, 0, 1, 0, 0, 0,\n",
              "       0, 0, 1, 1, 1, 1, 1, 1, 1, 0, 0, 0, 0, 0, 1, 1, 0, 1, 0, 0, 0, 1,\n",
              "       1, 0, 1, 1, 0, 0, 1, 0, 1, 0, 1, 0, 0, 0, 0, 0, 0, 0, 1, 0, 1, 1,\n",
              "       0, 0, 1, 1, 1, 1, 0, 0, 0, 0, 1, 0, 1, 0, 0, 0, 1, 1, 1, 0, 1, 0,\n",
              "       1, 0, 1, 0, 0, 1, 0, 1, 0, 0, 0, 1, 1, 0, 1, 0, 0, 0, 1, 1, 1, 1,\n",
              "       0, 0, 1, 0, 1, 0, 1, 0, 1, 0, 0, 0, 0, 0, 0, 0, 1, 0, 0, 0, 1, 1,\n",
              "       0, 0, 0, 0, 0, 0, 0, 0, 1, 1, 0, 1, 0, 0, 0, 0, 1, 1, 1, 0, 1, 0,\n",
              "       0, 1, 0, 0, 0, 0, 0, 0, 0, 0, 1, 0, 0, 0, 1, 0, 0, 0, 1, 1, 1, 1,\n",
              "       0, 0, 0, 0, 0, 0, 1, 1, 0, 0, 1, 0, 0, 0, 0, 0, 1, 0, 1, 0, 0, 0,\n",
              "       1, 1, 0, 1, 1, 0, 0, 0, 0, 1, 0, 1, 0, 1, 1, 0, 0, 1, 0, 1, 1, 0,\n",
              "       0, 0, 1, 1, 1, 0, 0, 0, 0, 1, 1, 1, 1, 1, 0, 1, 1, 0, 0, 1, 1, 0,\n",
              "       1, 1, 0, 0, 0, 0, 0, 0, 0, 1, 0, 1, 0, 0, 0, 0, 1, 1, 0, 0, 0, 1,\n",
              "       0, 1, 0, 0, 1, 0, 1, 1, 1, 0, 0, 0, 1, 1, 1, 1, 0, 0, 1, 0, 0, 1])"
            ]
          },
          "metadata": {
            "tags": []
          },
          "execution_count": 64
        }
      ]
    },
    {
      "cell_type": "code",
      "metadata": {
        "id": "KFojN-7LuuGj",
        "colab_type": "code",
        "colab": {}
      },
      "source": [
        "output = pd.DataFrame({'PassengerID' : test.PassengerId, 'Survived' : y_pred})\n",
        "output.to_csv('submission_RF.csv', index = False)"
      ],
      "execution_count": 65,
      "outputs": []
    },
    {
      "cell_type": "markdown",
      "metadata": {
        "id": "SpK4Y2G0QeGK",
        "colab_type": "text"
      },
      "source": [
        "I tried predicting the survived values for the test set using all the classifiers above (LR, SVM, NB, RF, KNN, DT), and saved the predicted values (y_pred values) to a csv as required for the submission and submitted each of the csv files. \n",
        "\n",
        "\n",
        "Random Forest had the best test set accuracy at around 77% even though Logistic Regression had the best K-fold cross validation accuracy."
      ]
    },
    {
      "cell_type": "markdown",
      "metadata": {
        "id": "pGDjHpadRcGu",
        "colab_type": "text"
      },
      "source": [
        "## Improving the score by using Stacking with Out Of Fold (OOF) Prediction"
      ]
    },
    {
      "cell_type": "markdown",
      "metadata": {
        "id": "zShk1WZESGJ7",
        "colab_type": "text"
      },
      "source": [
        "I will be using the Random Forest and SVM classifiers from above and combine with three other classification models - AdaBoost, Gradient Boosting, and Extra Trees.\n",
        "\n",
        "Meaning of Stacking - The 5 (base) models will be used to produce a first layer of predictions, and then, the famous XGBoost model will be used to produce a second layer prediction."
      ]
    },
    {
      "cell_type": "code",
      "metadata": {
        "id": "2tFkPxrKzgvL",
        "colab_type": "code",
        "colab": {}
      },
      "source": [
        "import pandas as pd\n",
        "import numpy as np\n",
        "import re\n",
        "import sklearn\n",
        "import xgboost as xgb\n",
        "\n",
        "from sklearn.ensemble import (RandomForestClassifier, AdaBoostClassifier, \n",
        "                              GradientBoostingClassifier, ExtraTreesClassifier)\n",
        "from sklearn.svm import SVC\n",
        "from sklearn.model_selection import KFold\n",
        "\n",
        "import warnings\n",
        "warnings.filterwarnings('ignore')"
      ],
      "execution_count": 67,
      "outputs": []
    },
    {
      "cell_type": "code",
      "metadata": {
        "id": "fM4j1PGWTsza",
        "colab_type": "code",
        "colab": {}
      },
      "source": [
        "# Some constants first\n",
        "seed = 0 \n",
        "nfolds = 5 # set folds for out-of-fold prediction\n",
        "\n",
        "num_train = train.shape[0]\n",
        "num_test = test.shape[0]\n",
        "\n",
        "kf = KFold(n_splits=nfolds, random_state=seed)\n",
        "\n",
        "# Helper Class to extend the Sklearn classifier\n",
        "class SklearnHelper(object):\n",
        "    def __init__(self, clf, seed=0, params=None):\n",
        "        params['random_state'] = seed\n",
        "        self.clf = clf(**params)\n",
        "\n",
        "    def train(self, x_train, y_train):\n",
        "        self.clf.fit(x_train, y_train)\n",
        "\n",
        "    def predict(self, x):\n",
        "        return self.clf.predict(x)\n",
        "    \n",
        "    def fit(self,x,y):\n",
        "        return self.clf.fit(x,y)"
      ],
      "execution_count": 91,
      "outputs": []
    },
    {
      "cell_type": "markdown",
      "metadata": {
        "id": "yAp6OIQBdGeJ",
        "colab_type": "text"
      },
      "source": [
        "### First Level OOF predictions for Stacking"
      ]
    },
    {
      "cell_type": "code",
      "metadata": {
        "id": "01JbJEJBUvjq",
        "colab_type": "code",
        "colab": {}
      },
      "source": [
        "def out_of_fold_predictor(clf, x_train, y_train, x_test):\n",
        "    oof_train = np.zeros((num_train,))\n",
        "    oof_test = np.zeros((num_test,))\n",
        "    oof_test_skf = np.empty((nfolds, num_test))\n",
        "\n",
        "    for i, (train_index, test_index) in enumerate(kf.split(x_train)):\n",
        "        x_tr = x_train[train_index]\n",
        "        y_tr = y_train[train_index]\n",
        "        x_te = x_train[test_index]\n",
        "\n",
        "        clf.train(x_tr, y_tr)\n",
        "\n",
        "        oof_train[test_index] = clf.predict(x_te)\n",
        "        oof_test_skf[i, :] = clf.predict(x_test)\n",
        "\n",
        "    oof_test[:] = oof_test_skf.mean(axis=0)\n",
        "    return oof_train.reshape(-1, 1), oof_test.reshape(-1, 1)"
      ],
      "execution_count": 89,
      "outputs": []
    },
    {
      "cell_type": "code",
      "metadata": {
        "id": "oAGeH_lFYyAZ",
        "colab_type": "code",
        "colab": {}
      },
      "source": [
        "# Parameters for base classifiers\n",
        "\n",
        "# Random Forest parameters\n",
        "rf_params = {\n",
        "    'n_jobs': -1,\n",
        "    'n_estimators': 500,\n",
        "     'warm_start': True, \n",
        "     #'max_features': 0.2,\n",
        "    'max_depth': 6,\n",
        "    'min_samples_leaf': 2,\n",
        "    'max_features' : 'sqrt',\n",
        "    'verbose': 0\n",
        "}\n",
        "\n",
        "# Extra Trees Parameters\n",
        "et_params = {\n",
        "    'n_jobs': -1,\n",
        "    'n_estimators': 500,\n",
        "    'max_depth': 8,\n",
        "    'min_samples_leaf': 2,\n",
        "    'verbose': 0\n",
        "}\n",
        "\n",
        "# AdaBoost parameters\n",
        "ada_params = {\n",
        "    'n_estimators': 500,\n",
        "    'learning_rate' : 0.75\n",
        "}\n",
        "\n",
        "# Gradient Boosting parameters\n",
        "gb_params = {\n",
        "    'n_estimators': 500,\n",
        "    'max_depth': 5,\n",
        "    'min_samples_leaf': 2,\n",
        "    'verbose': 0\n",
        "}\n",
        "\n",
        "# Support Vector Classifier parameters \n",
        "svc_params = {\n",
        "    'kernel' : 'linear',\n",
        "    'C' : 0.025\n",
        "    }"
      ],
      "execution_count": 73,
      "outputs": []
    },
    {
      "cell_type": "code",
      "metadata": {
        "id": "NBQjvVC-Y8hn",
        "colab_type": "code",
        "colab": {}
      },
      "source": [
        "# Create 5 objects (instances of SkleanHelper class) that represent the 5 models\n",
        "rf = SklearnHelper(clf=RandomForestClassifier, seed=seed, params=rf_params)\n",
        "et = SklearnHelper(clf=ExtraTreesClassifier, seed=seed, params=et_params)\n",
        "ada = SklearnHelper(clf=AdaBoostClassifier, seed=seed, params=ada_params)\n",
        "gb = SklearnHelper(clf=GradientBoostingClassifier, seed=seed, params=gb_params)\n",
        "svc = SklearnHelper(clf=SVC, seed=seed, params=svc_params)"
      ],
      "execution_count": 75,
      "outputs": []
    },
    {
      "cell_type": "code",
      "metadata": {
        "id": "h89FDFtUZG3-",
        "colab_type": "code",
        "colab": {}
      },
      "source": [
        "# Create Numpy arrays for X_train, X_test and y_train from their dataframes to feed into our models\n",
        "y_train = y_train.ravel()\n",
        "X_train = X_train.values # Creates an array of the train data\n",
        "X_test = X_test.values # Creats an array of the test data"
      ],
      "execution_count": 76,
      "outputs": []
    },
    {
      "cell_type": "code",
      "metadata": {
        "id": "a4pbkXJWZ-XX",
        "colab_type": "code",
        "colab": {
          "base_uri": "https://localhost:8080/",
          "height": 272
        },
        "outputId": "17210f1c-c1df-40e2-8eb0-3d79d4a5c6b4"
      },
      "source": [
        "print(\"X_train shape:\", X_train.shape)\n",
        "X_train"
      ],
      "execution_count": 82,
      "outputs": [
        {
          "output_type": "stream",
          "text": [
            "X_train shape: (891, 10)\n"
          ],
          "name": "stdout"
        },
        {
          "output_type": "execute_result",
          "data": {
            "text/plain": [
              "array([[ 1.       , 22.       ,  1.       , ...,  0.       ,  0.       ,\n",
              "         1.       ],\n",
              "       [ 0.       , 38.       ,  1.       , ...,  1.       ,  0.       ,\n",
              "         0.       ],\n",
              "       [ 0.       , 26.       ,  0.       , ...,  0.       ,  0.       ,\n",
              "         1.       ],\n",
              "       ...,\n",
              "       [ 0.       , 21.7739726,  1.       , ...,  0.       ,  0.       ,\n",
              "         1.       ],\n",
              "       [ 1.       , 26.       ,  0.       , ...,  1.       ,  0.       ,\n",
              "         0.       ],\n",
              "       [ 1.       , 32.       ,  0.       , ...,  0.       ,  1.       ,\n",
              "         0.       ]])"
            ]
          },
          "metadata": {
            "tags": []
          },
          "execution_count": 82
        }
      ]
    },
    {
      "cell_type": "code",
      "metadata": {
        "id": "Id5207pEaFCx",
        "colab_type": "code",
        "colab": {}
      },
      "source": [
        "# Now I will feed the training and test data into the 5 base classifiers\n",
        "# and use the Out-of-Fold prediction function defined earlier to generate the first level predictions.\n",
        "\n",
        "# Create our OOF train and test predictions. These base results will be used as new features for second level (XGBoost)\n",
        "et_oof_train, et_oof_test   = out_of_fold_predictor(et, X_train, y_train, X_test)  # Extra Trees\n",
        "rf_oof_train, rf_oof_test   = out_of_fold_predictor(rf, X_train, y_train, X_test)  # Random Forest\n",
        "ada_oof_train, ada_oof_test = out_of_fold_predictor(ada, X_train, y_train, X_test) # AdaBoost \n",
        "gb_oof_train, gb_oof_test   = out_of_fold_predictor(gb, X_train, y_train, X_test)  # Gradient Boost\n",
        "svc_oof_train, svc_oof_test = out_of_fold_predictor(svc, X_train, y_train, X_test) # Support Vector Classifier"
      ],
      "execution_count": 90,
      "outputs": []
    },
    {
      "cell_type": "markdown",
      "metadata": {
        "id": "wPY1qawgdNhf",
        "colab_type": "text"
      },
      "source": [
        "### Second level predictions from the first level's output\n",
        "\n"
      ]
    },
    {
      "cell_type": "markdown",
      "metadata": {
        "id": "VICmUcnKe7MW",
        "colab_type": "text"
      },
      "source": [
        "### First level outputs are now the new features\n",
        "\n",
        "Having obtained the first level predictions, one can think of it as essentially building a new set of features to be used as the columns in the training data for the next level's classifier (XGBoost)."
      ]
    },
    {
      "cell_type": "code",
      "metadata": {
        "id": "hjBFQIVoaxij",
        "colab_type": "code",
        "colab": {
          "base_uri": "https://localhost:8080/",
          "height": 198
        },
        "outputId": "be93b2bd-33ed-412a-897e-9c9f010d8d4e"
      },
      "source": [
        "base_predictions_train = pd.DataFrame( \n",
        "    {'RandomForest' : rf_oof_train.ravel(),\n",
        "     'ExtraTrees'   : et_oof_train.ravel(),\n",
        "     'AdaBoost'     : ada_oof_train.ravel(),\n",
        "     'GradientBoost': gb_oof_train.ravel(),\n",
        "     'SVM'          : svc_oof_train.ravel()\n",
        "    })\n",
        "\n",
        "base_predictions_train.head()"
      ],
      "execution_count": 93,
      "outputs": [
        {
          "output_type": "execute_result",
          "data": {
            "text/html": [
              "<div>\n",
              "<style scoped>\n",
              "    .dataframe tbody tr th:only-of-type {\n",
              "        vertical-align: middle;\n",
              "    }\n",
              "\n",
              "    .dataframe tbody tr th {\n",
              "        vertical-align: top;\n",
              "    }\n",
              "\n",
              "    .dataframe thead th {\n",
              "        text-align: right;\n",
              "    }\n",
              "</style>\n",
              "<table border=\"1\" class=\"dataframe\">\n",
              "  <thead>\n",
              "    <tr style=\"text-align: right;\">\n",
              "      <th></th>\n",
              "      <th>RandomForest</th>\n",
              "      <th>ExtraTrees</th>\n",
              "      <th>AdaBoost</th>\n",
              "      <th>GradientBoost</th>\n",
              "      <th>SVM</th>\n",
              "    </tr>\n",
              "  </thead>\n",
              "  <tbody>\n",
              "    <tr>\n",
              "      <th>0</th>\n",
              "      <td>0.0</td>\n",
              "      <td>0.0</td>\n",
              "      <td>0.0</td>\n",
              "      <td>0.0</td>\n",
              "      <td>0.0</td>\n",
              "    </tr>\n",
              "    <tr>\n",
              "      <th>1</th>\n",
              "      <td>1.0</td>\n",
              "      <td>1.0</td>\n",
              "      <td>1.0</td>\n",
              "      <td>1.0</td>\n",
              "      <td>1.0</td>\n",
              "    </tr>\n",
              "    <tr>\n",
              "      <th>2</th>\n",
              "      <td>0.0</td>\n",
              "      <td>0.0</td>\n",
              "      <td>1.0</td>\n",
              "      <td>1.0</td>\n",
              "      <td>1.0</td>\n",
              "    </tr>\n",
              "    <tr>\n",
              "      <th>3</th>\n",
              "      <td>1.0</td>\n",
              "      <td>1.0</td>\n",
              "      <td>1.0</td>\n",
              "      <td>1.0</td>\n",
              "      <td>1.0</td>\n",
              "    </tr>\n",
              "    <tr>\n",
              "      <th>4</th>\n",
              "      <td>0.0</td>\n",
              "      <td>0.0</td>\n",
              "      <td>0.0</td>\n",
              "      <td>0.0</td>\n",
              "      <td>0.0</td>\n",
              "    </tr>\n",
              "  </tbody>\n",
              "</table>\n",
              "</div>"
            ],
            "text/plain": [
              "   RandomForest  ExtraTrees  AdaBoost  GradientBoost  SVM\n",
              "0           0.0         0.0       0.0            0.0  0.0\n",
              "1           1.0         1.0       1.0            1.0  1.0\n",
              "2           0.0         0.0       1.0            1.0  1.0\n",
              "3           1.0         1.0       1.0            1.0  1.0\n",
              "4           0.0         0.0       0.0            0.0  0.0"
            ]
          },
          "metadata": {
            "tags": []
          },
          "execution_count": 93
        }
      ]
    },
    {
      "cell_type": "code",
      "metadata": {
        "id": "0Gw9d9QseRQr",
        "colab_type": "code",
        "colab": {}
      },
      "source": [
        "X_train2 = np.concatenate((et_oof_train, rf_oof_train, ada_oof_train, gb_oof_train, svc_oof_train), axis=1)\n",
        "X_test2 = np.concatenate((et_oof_test, rf_oof_test, ada_oof_test, gb_oof_test, svc_oof_test), axis=1)"
      ],
      "execution_count": 94,
      "outputs": []
    },
    {
      "cell_type": "code",
      "metadata": {
        "id": "5RUyxxKlfX4g",
        "colab_type": "code",
        "colab": {
          "base_uri": "https://localhost:8080/",
          "height": 145
        },
        "outputId": "c2bc2f63-4d78-4c71-a3c0-e252995e66ce"
      },
      "source": [
        "X_train2"
      ],
      "execution_count": 95,
      "outputs": [
        {
          "output_type": "execute_result",
          "data": {
            "text/plain": [
              "array([[0., 0., 0., 0., 0.],\n",
              "       [1., 1., 1., 1., 1.],\n",
              "       [0., 0., 1., 1., 1.],\n",
              "       ...,\n",
              "       [0., 0., 1., 0., 1.],\n",
              "       [0., 1., 1., 1., 0.],\n",
              "       [0., 0., 0., 0., 0.]])"
            ]
          },
          "metadata": {
            "tags": []
          },
          "execution_count": 95
        }
      ]
    },
    {
      "cell_type": "markdown",
      "metadata": {
        "id": "RoocMFOhfg5x",
        "colab_type": "text"
      },
      "source": [
        "XGBoost is a very famous ML library for its boosted tree learning model. XGBoost was built to optimize large-scale boosted tree algorithms.\n",
        "\n",
        "I will now call the XGBClassifier and fit it to the first level predictions, which is now the new X_train2 data as well as the y_train data, and use the learned model to predict the Survived values for the test data X_test2."
      ]
    },
    {
      "cell_type": "code",
      "metadata": {
        "id": "kXLmRzB0e0Al",
        "colab_type": "code",
        "colab": {}
      },
      "source": [
        "gbm = xgb.XGBClassifier(\n",
        "    n_estimators = 2000,\n",
        "    max_depth = 4,\n",
        "    min_child_weight = 2,\n",
        "    gamma = 0.9,                        \n",
        "    subsample = 0.8,\n",
        "    colsample_bytree = 0.8,\n",
        "    objective = 'binary:logistic',\n",
        "    nthread = -1,\n",
        "    scale_pos_weight = 1).fit(X_train2, y_train)\n",
        "\n",
        "predictions = gbm.predict(X_test2)"
      ],
      "execution_count": 96,
      "outputs": []
    },
    {
      "cell_type": "code",
      "metadata": {
        "id": "u9prD-3oglRl",
        "colab_type": "code",
        "colab": {
          "base_uri": "https://localhost:8080/",
          "height": 381
        },
        "outputId": "697cad1c-b489-4c72-a18a-444de0017eb8"
      },
      "source": [
        "print(\"Shape of predictions array:\", predictions.shape)\n",
        "predictions"
      ],
      "execution_count": 98,
      "outputs": [
        {
          "output_type": "stream",
          "text": [
            "Shape of predictions array: (418,)\n"
          ],
          "name": "stdout"
        },
        {
          "output_type": "execute_result",
          "data": {
            "text/plain": [
              "array([0, 0, 0, 0, 0, 0, 1, 0, 1, 0, 0, 0, 1, 0, 1, 1, 0, 0, 0, 0, 1, 0,\n",
              "       1, 1, 1, 0, 1, 0, 0, 0, 0, 0, 0, 0, 1, 0, 0, 0, 0, 0, 0, 0, 0, 1,\n",
              "       1, 0, 0, 0, 1, 0, 1, 0, 1, 1, 0, 0, 0, 0, 0, 1, 0, 0, 0, 1, 1, 1,\n",
              "       1, 0, 0, 1, 1, 0, 0, 1, 1, 0, 0, 1, 0, 1, 1, 0, 0, 0, 0, 0, 1, 0,\n",
              "       1, 1, 0, 0, 1, 0, 1, 0, 1, 0, 0, 0, 1, 0, 0, 0, 1, 0, 0, 0, 0, 0,\n",
              "       0, 1, 1, 1, 1, 0, 0, 1, 0, 1, 1, 0, 1, 0, 0, 0, 0, 1, 0, 0, 0, 0,\n",
              "       0, 0, 0, 0, 0, 0, 0, 0, 0, 1, 0, 0, 0, 0, 0, 0, 0, 0, 1, 0, 0, 0,\n",
              "       0, 0, 1, 0, 0, 0, 1, 1, 1, 0, 0, 0, 0, 0, 1, 0, 0, 0, 0, 0, 0, 1,\n",
              "       1, 1, 1, 1, 0, 1, 1, 0, 1, 0, 1, 0, 0, 0, 0, 0, 0, 0, 1, 0, 1, 0,\n",
              "       0, 0, 1, 1, 1, 1, 0, 0, 1, 0, 1, 0, 0, 0, 0, 1, 0, 0, 1, 0, 1, 0,\n",
              "       1, 0, 1, 0, 1, 1, 0, 1, 0, 0, 0, 1, 0, 0, 1, 0, 1, 0, 1, 1, 1, 1,\n",
              "       1, 0, 1, 1, 1, 0, 1, 1, 1, 0, 1, 0, 0, 0, 0, 0, 1, 0, 0, 0, 1, 1,\n",
              "       0, 0, 0, 0, 0, 0, 0, 0, 1, 1, 0, 1, 0, 0, 0, 0, 0, 1, 1, 1, 1, 0,\n",
              "       0, 1, 0, 0, 0, 1, 0, 0, 0, 0, 1, 0, 0, 0, 0, 0, 0, 0, 1, 1, 1, 1,\n",
              "       0, 0, 0, 0, 0, 0, 1, 1, 1, 0, 0, 0, 0, 0, 0, 0, 1, 0, 1, 0, 0, 0,\n",
              "       1, 0, 0, 0, 0, 0, 0, 0, 0, 1, 0, 0, 0, 1, 1, 1, 0, 0, 0, 1, 1, 0,\n",
              "       0, 0, 1, 0, 1, 0, 0, 0, 0, 1, 1, 0, 1, 0, 0, 0, 1, 0, 0, 1, 0, 0,\n",
              "       1, 1, 0, 0, 0, 0, 0, 0, 0, 0, 0, 1, 0, 0, 0, 0, 1, 1, 0, 0, 0, 1,\n",
              "       0, 1, 0, 0, 1, 0, 1, 1, 1, 0, 0, 1, 1, 1, 1, 1, 0, 0, 1, 0, 0, 1])"
            ]
          },
          "metadata": {
            "tags": []
          },
          "execution_count": 98
        }
      ]
    },
    {
      "cell_type": "markdown",
      "metadata": {
        "id": "6YPx4kzeg4-F",
        "colab_type": "text"
      },
      "source": [
        "### Finally, I can now generate the Stacked models submission csv file!"
      ]
    },
    {
      "cell_type": "code",
      "metadata": {
        "id": "zrE6qqEHgmPY",
        "colab_type": "code",
        "colab": {}
      },
      "source": [
        "StackedModelsSubmission = pd.DataFrame({'PassengerId': test.PassengerId,\n",
        "                                        'Survived'   : predictions})\n",
        "StackedModelsSubmission.to_csv(\"submission_StackedModels.csv\", index=False)"
      ],
      "execution_count": 99,
      "outputs": []
    },
    {
      "cell_type": "markdown",
      "metadata": {
        "id": "rmWU51xFiE4V",
        "colab_type": "text"
      },
      "source": [
        "### Model accuracy increased slightly from 77% to around 80%, though more importantly, I explored Stacking and Out Of Fold (OOF) predictions, which will likely be useful for future Kaggle / Data Science competitions!\n",
        "\n",
        "Goals for next run through this dataset:\n",
        "\n",
        "1) Experiment further with hyperparameter tuning and regularization.\n",
        "\n",
        "2) Conduct more extensive Exploratory Data Analysis (EDA), and use more varied plots and visualization tools.\n",
        "\n",
        "3) Improve feature selection and engineer better features."
      ]
    },
    {
      "cell_type": "code",
      "metadata": {
        "id": "xK79u2C-hT_B",
        "colab_type": "code",
        "colab": {}
      },
      "source": [
        ""
      ],
      "execution_count": null,
      "outputs": []
    }
  ]
}